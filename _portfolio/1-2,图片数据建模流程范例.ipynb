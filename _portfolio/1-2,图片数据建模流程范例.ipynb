{
 "cells": [
  {
   "cell_type": "markdown",
   "id": "f1f7111a",
   "metadata": {},
   "source": [
    "# 1-2,图片数据建模流程范例"
   ]
  },
  {
   "cell_type": "code",
   "execution_count": 2,
   "id": "d66df564",
   "metadata": {},
   "outputs": [],
   "source": [
    "import os\n",
    "\n",
    "#mac系统上pytorch和matplotlib在jupyter中同时跑需要更改环境变量\n",
    "os.environ[\"KMP_DUPLICATE_LIB_OK\"]=\"TRUE\" \n"
   ]
  },
  {
   "cell_type": "code",
   "execution_count": null,
   "id": "1bd73b8b",
   "metadata": {},
   "outputs": [],
   "source": [
    "!pip install torchvison==0.15.2\n",
    "!pip install torchmetrics "
   ]
  },
  {
   "cell_type": "code",
   "execution_count": 19,
   "id": "0ecd187d",
   "metadata": {
    "lines_to_next_cell": 2
   },
   "outputs": [
    {
     "name": "stdout",
     "output_type": "stream",
     "text": [
      "torch.__version__ =  2.0.1\n",
      "torchvision.__version__ =  0.15.2\n",
      "torchkeras.__version__ =  3.9.3\n",
      "torchmetrics.__version__ =  0.11.0\n"
     ]
    }
   ],
   "source": [
    "import torch \n",
    "import torchvision \n",
    "import torchkeras \n",
    "print(\"torch.__version__ = \", torch.__version__)\n",
    "print(\"torchvision.__version__ = \", torchvision.__version__) \n",
    "print(\"torchkeras.__version__ = \", torchkeras.__version__) \n",
    "print(\"torchmetrics.__version__ = \", torchmetrics.__version__) "
   ]
  },
  {
   "cell_type": "markdown",
   "id": "95b1977b",
   "metadata": {},
   "source": [
    "<br>\n",
    "\n",
    "<font color=\"red\">\n",
    " \n",
    "公众号 **算法美食屋** 回复关键词：**pytorch**， 获取本项目源码和所用数据集百度云盘下载链接。\n",
    "    \n",
    "</font> \n"
   ]
  },
  {
   "cell_type": "markdown",
   "id": "7b1bde63",
   "metadata": {},
   "source": [
    "### 一，准备数据"
   ]
  },
  {
   "cell_type": "markdown",
   "id": "15a18555",
   "metadata": {},
   "source": [
    "cifar2数据集为cifar10数据集的子集，只包括前两种类别airplane和automobile。\n",
    "\n",
    "训练集有airplane和automobile图片各5000张，测试集有airplane和automobile图片各1000张。\n",
    "\n",
    "cifar2任务的目标是训练一个模型来对飞机airplane和机动车automobile两种图片进行分类。\n",
    "\n",
    "我们准备的Cifar2数据集的文件结构如下所示。\n",
    "\n",
    "![](./data/cifar2.jpg)"
   ]
  },
  {
   "cell_type": "markdown",
   "id": "16ecef43",
   "metadata": {},
   "source": [
    "在Pytorch中构建图片数据管道通常有两种方法。\n",
    "\n",
    "第一种是使用 torchvision中的datasets.ImageFolder来读取图片然后用 DataLoader来并行加载。\n",
    "\n",
    "第二种是通过继承 torch.utils.data.Dataset 实现用户自定义读取逻辑然后用 DataLoader来并行加载。\n",
    "\n",
    "第二种方法是读取用户自定义数据集的通用方法，既可以读取图片数据集，也可以读取文本数据集。\n",
    "\n",
    "本篇我们介绍第一种方法。\n"
   ]
  },
  {
   "cell_type": "code",
   "execution_count": 3,
   "id": "61535b2e",
   "metadata": {},
   "outputs": [],
   "source": [
    "import torch \n",
    "from torch import nn\n",
    "from torch.utils.data import Dataset,DataLoader\n",
    "from torchvision import transforms as T\n",
    "from torchvision import datasets "
   ]
  },
  {
   "cell_type": "code",
   "execution_count": 4,
   "id": "a242a652",
   "metadata": {},
   "outputs": [],
   "source": [
    "transform_img = T.Compose(\n",
    "    [T.ToTensor()])\n",
    "\n",
    "def transform_label(x):\n",
    "    return torch.tensor([x]).float()\n"
   ]
  },
  {
   "cell_type": "code",
   "execution_count": 5,
   "id": "53f01ce9",
   "metadata": {},
   "outputs": [
    {
     "name": "stdout",
     "output_type": "stream",
     "text": [
      "{'0_airplane': 0, '1_automobile': 1}\n"
     ]
    }
   ],
   "source": [
    "ds_train = datasets.ImageFolder(\"./eat_pytorch_datasets/cifar2/train/\",\n",
    "            transform = transform_img,target_transform = transform_label)\n",
    "ds_val = datasets.ImageFolder(\"./eat_pytorch_datasets/cifar2/test/\",\n",
    "            transform = transform_img,target_transform = transform_label)\n",
    "print(ds_train.class_to_idx)\n"
   ]
  },
  {
   "cell_type": "code",
   "execution_count": 6,
   "id": "0aec4c82",
   "metadata": {},
   "outputs": [],
   "source": [
    "dl_train = DataLoader(ds_train,batch_size = 50,shuffle = True)\n",
    "dl_val = DataLoader(ds_val,batch_size = 50,shuffle = False)\n"
   ]
  },
  {
   "cell_type": "code",
   "execution_count": 7,
   "id": "de412f15",
   "metadata": {},
   "outputs": [
    {
     "data": {
      "image/svg+xml": "<?xml version=\"1.0\" encoding=\"utf-8\" standalone=\"no\"?>\n<!DOCTYPE svg PUBLIC \"-//W3C//DTD SVG 1.1//EN\"\n  \"http://www.w3.org/Graphics/SVG/1.1/DTD/svg11.dtd\">\n<svg xmlns:xlink=\"http://www.w3.org/1999/xlink\" width=\"463.452941pt\" height=\"476.538125pt\" viewBox=\"0 0 463.452941 476.538125\" xmlns=\"http://www.w3.org/2000/svg\" version=\"1.1\">\n <metadata>\n  <rdf:RDF xmlns:dc=\"http://purl.org/dc/elements/1.1/\" xmlns:cc=\"http://creativecommons.org/ns#\" xmlns:rdf=\"http://www.w3.org/1999/02/22-rdf-syntax-ns#\">\n   <cc:Work>\n    <dc:type rdf:resource=\"http://purl.org/dc/dcmitype/StillImage\"/>\n    <dc:date>2023-08-02T11:49:32.917393</dc:date>\n    <dc:format>image/svg+xml</dc:format>\n    <dc:creator>\n     <cc:Agent>\n      <dc:title>Matplotlib v3.6.2, https://matplotlib.org/</dc:title>\n     </cc:Agent>\n    </dc:creator>\n   </cc:Work>\n  </rdf:RDF>\n </metadata>\n <defs>\n  <style type=\"text/css\">*{stroke-linejoin: round; stroke-linecap: butt}</style>\n </defs>\n <g id=\"figure_1\">\n  <g id=\"patch_1\">\n   <path d=\"M 0 476.538125 \nL 463.452941 476.538125 \nL 463.452941 0 \nL 0 0 \nz\n\" style=\"fill: #ffffff\"/>\n  </g>\n  <g id=\"axes_1\">\n   <g id=\"patch_2\">\n    <path d=\"M 10.7 152.765184 \nL 141.147059 152.765184 \nL 141.147059 22.318125 \nL 10.7 22.318125 \nz\n\" style=\"fill: #ffffff\"/>\n   </g>\n   <g clip-path=\"url(#p3519f9bef9)\">\n    <image xlink:href=\"data:image/png;base64,\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\" id=\"imagee46873cd12\" transform=\"scale(1 -1) translate(0 -131.04)\" x=\"10.7\" y=\"-21.725184\" width=\"131.04\" height=\"131.04\"/>\n   </g>\n   <g id=\"matplotlib.axis_1\"/>\n   <g id=\"matplotlib.axis_2\"/>\n   <g id=\"patch_3\">\n    <path d=\"M 10.7 152.765184 \nL 10.7 22.318125 \n\" style=\"fill: none; stroke: #000000; stroke-width: 0.8; stroke-linejoin: miter; stroke-linecap: square\"/>\n   </g>\n   <g id=\"patch_4\">\n    <path d=\"M 141.147059 152.765184 \nL 141.147059 22.318125 \n\" style=\"fill: none; stroke: #000000; stroke-width: 0.8; stroke-linejoin: miter; stroke-linecap: square\"/>\n   </g>\n   <g id=\"patch_5\">\n    <path d=\"M 10.7 152.765184 \nL 141.147059 152.765184 \n\" style=\"fill: none; stroke: #000000; stroke-width: 0.8; stroke-linejoin: miter; stroke-linecap: square\"/>\n   </g>\n   <g id=\"patch_6\">\n    <path d=\"M 10.7 22.318125 \nL 141.147059 22.318125 \n\" style=\"fill: none; stroke: #000000; stroke-width: 0.8; stroke-linejoin: miter; stroke-linecap: square\"/>\n   </g>\n   <g id=\"text_1\">\n    <!-- label = 0 -->\n    <g transform=\"translate(48.752904 16.318125) scale(0.12 -0.12)\">\n     <defs>\n      <path id=\"DejaVuSans-6c\" d=\"M 603 4863 \nL 1178 4863 \nL 1178 0 \nL 603 0 \nL 603 4863 \nz\n\" transform=\"scale(0.015625)\"/>\n      <path id=\"DejaVuSans-61\" d=\"M 2194 1759 \nQ 1497 1759 1228 1600 \nQ 959 1441 959 1056 \nQ 959 750 1161 570 \nQ 1363 391 1709 391 \nQ 2188 391 2477 730 \nQ 2766 1069 2766 1631 \nL 2766 1759 \nL 2194 1759 \nz\nM 3341 1997 \nL 3341 0 \nL 2766 0 \nL 2766 531 \nQ 2569 213 2275 61 \nQ 1981 -91 1556 -91 \nQ 1019 -91 701 211 \nQ 384 513 384 1019 \nQ 384 1609 779 1909 \nQ 1175 2209 1959 2209 \nL 2766 2209 \nL 2766 2266 \nQ 2766 2663 2505 2880 \nQ 2244 3097 1772 3097 \nQ 1472 3097 1187 3025 \nQ 903 2953 641 2809 \nL 641 3341 \nQ 956 3463 1253 3523 \nQ 1550 3584 1831 3584 \nQ 2591 3584 2966 3190 \nQ 3341 2797 3341 1997 \nz\n\" transform=\"scale(0.015625)\"/>\n      <path id=\"DejaVuSans-62\" d=\"M 3116 1747 \nQ 3116 2381 2855 2742 \nQ 2594 3103 2138 3103 \nQ 1681 3103 1420 2742 \nQ 1159 2381 1159 1747 \nQ 1159 1113 1420 752 \nQ 1681 391 2138 391 \nQ 2594 391 2855 752 \nQ 3116 1113 3116 1747 \nz\nM 1159 2969 \nQ 1341 3281 1617 3432 \nQ 1894 3584 2278 3584 \nQ 2916 3584 3314 3078 \nQ 3713 2572 3713 1747 \nQ 3713 922 3314 415 \nQ 2916 -91 2278 -91 \nQ 1894 -91 1617 61 \nQ 1341 213 1159 525 \nL 1159 0 \nL 581 0 \nL 581 4863 \nL 1159 4863 \nL 1159 2969 \nz\n\" transform=\"scale(0.015625)\"/>\n      <path id=\"DejaVuSans-65\" d=\"M 3597 1894 \nL 3597 1613 \nL 953 1613 \nQ 991 1019 1311 708 \nQ 1631 397 2203 397 \nQ 2534 397 2845 478 \nQ 3156 559 3463 722 \nL 3463 178 \nQ 3153 47 2828 -22 \nQ 2503 -91 2169 -91 \nQ 1331 -91 842 396 \nQ 353 884 353 1716 \nQ 353 2575 817 3079 \nQ 1281 3584 2069 3584 \nQ 2775 3584 3186 3129 \nQ 3597 2675 3597 1894 \nz\nM 3022 2063 \nQ 3016 2534 2758 2815 \nQ 2500 3097 2075 3097 \nQ 1594 3097 1305 2825 \nQ 1016 2553 972 2059 \nL 3022 2063 \nz\n\" transform=\"scale(0.015625)\"/>\n      <path id=\"DejaVuSans-20\" transform=\"scale(0.015625)\"/>\n      <path id=\"DejaVuSans-3d\" d=\"M 678 2906 \nL 4684 2906 \nL 4684 2381 \nL 678 2381 \nL 678 2906 \nz\nM 678 1631 \nL 4684 1631 \nL 4684 1100 \nL 678 1100 \nL 678 1631 \nz\n\" transform=\"scale(0.015625)\"/>\n      <path id=\"DejaVuSans-30\" d=\"M 2034 4250 \nQ 1547 4250 1301 3770 \nQ 1056 3291 1056 2328 \nQ 1056 1369 1301 889 \nQ 1547 409 2034 409 \nQ 2525 409 2770 889 \nQ 3016 1369 3016 2328 \nQ 3016 3291 2770 3770 \nQ 2525 4250 2034 4250 \nz\nM 2034 4750 \nQ 2819 4750 3233 4129 \nQ 3647 3509 3647 2328 \nQ 3647 1150 3233 529 \nQ 2819 -91 2034 -91 \nQ 1250 -91 836 529 \nQ 422 1150 422 2328 \nQ 422 3509 836 4129 \nQ 1250 4750 2034 4750 \nz\n\" transform=\"scale(0.015625)\"/>\n     </defs>\n     <use xlink:href=\"#DejaVuSans-6c\"/>\n     <use xlink:href=\"#DejaVuSans-61\" x=\"27.783203\"/>\n     <use xlink:href=\"#DejaVuSans-62\" x=\"89.0625\"/>\n     <use xlink:href=\"#DejaVuSans-65\" x=\"152.539062\"/>\n     <use xlink:href=\"#DejaVuSans-6c\" x=\"214.0625\"/>\n     <use xlink:href=\"#DejaVuSans-20\" x=\"241.845703\"/>\n     <use xlink:href=\"#DejaVuSans-3d\" x=\"273.632812\"/>\n     <use xlink:href=\"#DejaVuSans-20\" x=\"357.421875\"/>\n     <use xlink:href=\"#DejaVuSans-30\" x=\"389.208984\"/>\n    </g>\n   </g>\n  </g>\n  <g id=\"axes_2\">\n   <g id=\"patch_7\">\n    <path d=\"M 168.252941 152.765184 \nL 298.7 152.765184 \nL 298.7 22.318125 \nL 168.252941 22.318125 \nz\n\" style=\"fill: #ffffff\"/>\n   </g>\n   <g clip-path=\"url(#pd9bc99fdd8)\">\n    <image xlink:href=\"data:image/png;base64,\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\" id=\"imagecd97c1f853\" transform=\"scale(1 -1) translate(0 -131.04)\" x=\"168.252941\" y=\"-21.725184\" width=\"131.04\" height=\"131.04\"/>\n   </g>\n   <g id=\"matplotlib.axis_3\"/>\n   <g id=\"matplotlib.axis_4\"/>\n   <g id=\"patch_8\">\n    <path d=\"M 168.252941 152.765184 \nL 168.252941 22.318125 \n\" style=\"fill: none; stroke: #000000; stroke-width: 0.8; stroke-linejoin: miter; stroke-linecap: square\"/>\n   </g>\n   <g id=\"patch_9\">\n    <path d=\"M 298.7 152.765184 \nL 298.7 22.318125 \n\" style=\"fill: none; stroke: #000000; stroke-width: 0.8; stroke-linejoin: miter; stroke-linecap: square\"/>\n   </g>\n   <g id=\"patch_10\">\n    <path d=\"M 168.252941 152.765184 \nL 298.7 152.765184 \n\" style=\"fill: none; stroke: #000000; stroke-width: 0.8; stroke-linejoin: miter; stroke-linecap: square\"/>\n   </g>\n   <g id=\"patch_11\">\n    <path d=\"M 168.252941 22.318125 \nL 298.7 22.318125 \n\" style=\"fill: none; stroke: #000000; stroke-width: 0.8; stroke-linejoin: miter; stroke-linecap: square\"/>\n   </g>\n   <g id=\"text_2\">\n    <!-- label = 0 -->\n    <g transform=\"translate(206.305846 16.318125) scale(0.12 -0.12)\">\n     <use xlink:href=\"#DejaVuSans-6c\"/>\n     <use xlink:href=\"#DejaVuSans-61\" x=\"27.783203\"/>\n     <use xlink:href=\"#DejaVuSans-62\" x=\"89.0625\"/>\n     <use xlink:href=\"#DejaVuSans-65\" x=\"152.539062\"/>\n     <use xlink:href=\"#DejaVuSans-6c\" x=\"214.0625\"/>\n     <use xlink:href=\"#DejaVuSans-20\" x=\"241.845703\"/>\n     <use xlink:href=\"#DejaVuSans-3d\" x=\"273.632812\"/>\n     <use xlink:href=\"#DejaVuSans-20\" x=\"357.421875\"/>\n     <use xlink:href=\"#DejaVuSans-30\" x=\"389.208984\"/>\n    </g>\n   </g>\n  </g>\n  <g id=\"axes_3\">\n   <g id=\"patch_12\">\n    <path d=\"M 325.805882 152.765184 \nL 456.252941 152.765184 \nL 456.252941 22.318125 \nL 325.805882 22.318125 \nz\n\" style=\"fill: #ffffff\"/>\n   </g>\n   <g clip-path=\"url(#p26e99eadd1)\">\n    <image xlink:href=\"data:image/png;base64,\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\" id=\"image144d695f58\" transform=\"scale(1 -1) translate(0 -131.04)\" x=\"325.805882\" y=\"-21.725184\" width=\"131.04\" height=\"131.04\"/>\n   </g>\n   <g id=\"matplotlib.axis_5\"/>\n   <g id=\"matplotlib.axis_6\"/>\n   <g id=\"patch_13\">\n    <path d=\"M 325.805882 152.765184 \nL 325.805882 22.318125 \n\" style=\"fill: none; stroke: #000000; stroke-width: 0.8; stroke-linejoin: miter; stroke-linecap: square\"/>\n   </g>\n   <g id=\"patch_14\">\n    <path d=\"M 456.252941 152.765184 \nL 456.252941 22.318125 \n\" style=\"fill: none; stroke: #000000; stroke-width: 0.8; stroke-linejoin: miter; stroke-linecap: square\"/>\n   </g>\n   <g id=\"patch_15\">\n    <path d=\"M 325.805882 152.765184 \nL 456.252941 152.765184 \n\" style=\"fill: none; stroke: #000000; stroke-width: 0.8; stroke-linejoin: miter; stroke-linecap: square\"/>\n   </g>\n   <g id=\"patch_16\">\n    <path d=\"M 325.805882 22.318125 \nL 456.252941 22.318125 \n\" style=\"fill: none; stroke: #000000; stroke-width: 0.8; stroke-linejoin: miter; stroke-linecap: square\"/>\n   </g>\n   <g id=\"text_3\">\n    <!-- label = 0 -->\n    <g transform=\"translate(363.858787 16.318125) scale(0.12 -0.12)\">\n     <use xlink:href=\"#DejaVuSans-6c\"/>\n     <use xlink:href=\"#DejaVuSans-61\" x=\"27.783203\"/>\n     <use xlink:href=\"#DejaVuSans-62\" x=\"89.0625\"/>\n     <use xlink:href=\"#DejaVuSans-65\" x=\"152.539062\"/>\n     <use xlink:href=\"#DejaVuSans-6c\" x=\"214.0625\"/>\n     <use xlink:href=\"#DejaVuSans-20\" x=\"241.845703\"/>\n     <use xlink:href=\"#DejaVuSans-3d\" x=\"273.632812\"/>\n     <use xlink:href=\"#DejaVuSans-20\" x=\"357.421875\"/>\n     <use xlink:href=\"#DejaVuSans-30\" x=\"389.208984\"/>\n    </g>\n   </g>\n  </g>\n  <g id=\"axes_4\">\n   <g id=\"patch_17\">\n    <path d=\"M 10.7 309.301654 \nL 141.147059 309.301654 \nL 141.147059 178.854596 \nL 10.7 178.854596 \nz\n\" style=\"fill: #ffffff\"/>\n   </g>\n   <g clip-path=\"url(#pc88e445e60)\">\n    <image xlink:href=\"data:image/png;base64,\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\" id=\"imagee2f2738d54\" transform=\"scale(1 -1) translate(0 -131.04)\" x=\"10.7\" y=\"-178.261654\" width=\"131.04\" height=\"131.04\"/>\n   </g>\n   <g id=\"matplotlib.axis_7\"/>\n   <g id=\"matplotlib.axis_8\"/>\n   <g id=\"patch_18\">\n    <path d=\"M 10.7 309.301654 \nL 10.7 178.854596 \n\" style=\"fill: none; stroke: #000000; stroke-width: 0.8; stroke-linejoin: miter; stroke-linecap: square\"/>\n   </g>\n   <g id=\"patch_19\">\n    <path d=\"M 141.147059 309.301654 \nL 141.147059 178.854596 \n\" style=\"fill: none; stroke: #000000; stroke-width: 0.8; stroke-linejoin: miter; stroke-linecap: square\"/>\n   </g>\n   <g id=\"patch_20\">\n    <path d=\"M 10.7 309.301654 \nL 141.147059 309.301654 \n\" style=\"fill: none; stroke: #000000; stroke-width: 0.8; stroke-linejoin: miter; stroke-linecap: square\"/>\n   </g>\n   <g id=\"patch_21\">\n    <path d=\"M 10.7 178.854596 \nL 141.147059 178.854596 \n\" style=\"fill: none; stroke: #000000; stroke-width: 0.8; stroke-linejoin: miter; stroke-linecap: square\"/>\n   </g>\n   <g id=\"text_4\">\n    <!-- label = 0 -->\n    <g transform=\"translate(48.752904 172.854596) scale(0.12 -0.12)\">\n     <use xlink:href=\"#DejaVuSans-6c\"/>\n     <use xlink:href=\"#DejaVuSans-61\" x=\"27.783203\"/>\n     <use xlink:href=\"#DejaVuSans-62\" x=\"89.0625\"/>\n     <use xlink:href=\"#DejaVuSans-65\" x=\"152.539062\"/>\n     <use xlink:href=\"#DejaVuSans-6c\" x=\"214.0625\"/>\n     <use xlink:href=\"#DejaVuSans-20\" x=\"241.845703\"/>\n     <use xlink:href=\"#DejaVuSans-3d\" x=\"273.632812\"/>\n     <use xlink:href=\"#DejaVuSans-20\" x=\"357.421875\"/>\n     <use xlink:href=\"#DejaVuSans-30\" x=\"389.208984\"/>\n    </g>\n   </g>\n  </g>\n  <g id=\"axes_5\">\n   <g id=\"patch_22\">\n    <path d=\"M 168.252941 309.301654 \nL 298.7 309.301654 \nL 298.7 178.854596 \nL 168.252941 178.854596 \nz\n\" style=\"fill: #ffffff\"/>\n   </g>\n   <g clip-path=\"url(#pbaddfd4dc2)\">\n    <image xlink:href=\"data:image/png;base64,\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\" id=\"imagef2a3e9c3bb\" transform=\"scale(1 -1) translate(0 -131.04)\" x=\"168.252941\" y=\"-178.261654\" width=\"131.04\" height=\"131.04\"/>\n   </g>\n   <g id=\"matplotlib.axis_9\"/>\n   <g id=\"matplotlib.axis_10\"/>\n   <g id=\"patch_23\">\n    <path d=\"M 168.252941 309.301654 \nL 168.252941 178.854596 \n\" style=\"fill: none; stroke: #000000; stroke-width: 0.8; stroke-linejoin: miter; stroke-linecap: square\"/>\n   </g>\n   <g id=\"patch_24\">\n    <path d=\"M 298.7 309.301654 \nL 298.7 178.854596 \n\" style=\"fill: none; stroke: #000000; stroke-width: 0.8; stroke-linejoin: miter; stroke-linecap: square\"/>\n   </g>\n   <g id=\"patch_25\">\n    <path d=\"M 168.252941 309.301654 \nL 298.7 309.301654 \n\" style=\"fill: none; stroke: #000000; stroke-width: 0.8; stroke-linejoin: miter; stroke-linecap: square\"/>\n   </g>\n   <g id=\"patch_26\">\n    <path d=\"M 168.252941 178.854596 \nL 298.7 178.854596 \n\" style=\"fill: none; stroke: #000000; stroke-width: 0.8; stroke-linejoin: miter; stroke-linecap: square\"/>\n   </g>\n   <g id=\"text_5\">\n    <!-- label = 0 -->\n    <g transform=\"translate(206.305846 172.854596) scale(0.12 -0.12)\">\n     <use xlink:href=\"#DejaVuSans-6c\"/>\n     <use xlink:href=\"#DejaVuSans-61\" x=\"27.783203\"/>\n     <use xlink:href=\"#DejaVuSans-62\" x=\"89.0625\"/>\n     <use xlink:href=\"#DejaVuSans-65\" x=\"152.539062\"/>\n     <use xlink:href=\"#DejaVuSans-6c\" x=\"214.0625\"/>\n     <use xlink:href=\"#DejaVuSans-20\" x=\"241.845703\"/>\n     <use xlink:href=\"#DejaVuSans-3d\" x=\"273.632812\"/>\n     <use xlink:href=\"#DejaVuSans-20\" x=\"357.421875\"/>\n     <use xlink:href=\"#DejaVuSans-30\" x=\"389.208984\"/>\n    </g>\n   </g>\n  </g>\n  <g id=\"axes_6\">\n   <g id=\"patch_27\">\n    <path d=\"M 325.805882 309.301654 \nL 456.252941 309.301654 \nL 456.252941 178.854596 \nL 325.805882 178.854596 \nz\n\" style=\"fill: #ffffff\"/>\n   </g>\n   <g clip-path=\"url(#p8bba9e288c)\">\n    <image xlink:href=\"data:image/png;base64,\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\" id=\"imagedf3ed0c356\" transform=\"scale(1 -1) translate(0 -131.04)\" x=\"325.805882\" y=\"-178.261654\" width=\"131.04\" height=\"131.04\"/>\n   </g>\n   <g id=\"matplotlib.axis_11\"/>\n   <g id=\"matplotlib.axis_12\"/>\n   <g id=\"patch_28\">\n    <path d=\"M 325.805882 309.301654 \nL 325.805882 178.854596 \n\" style=\"fill: none; stroke: #000000; stroke-width: 0.8; stroke-linejoin: miter; stroke-linecap: square\"/>\n   </g>\n   <g id=\"patch_29\">\n    <path d=\"M 456.252941 309.301654 \nL 456.252941 178.854596 \n\" style=\"fill: none; stroke: #000000; stroke-width: 0.8; stroke-linejoin: miter; stroke-linecap: square\"/>\n   </g>\n   <g id=\"patch_30\">\n    <path d=\"M 325.805882 309.301654 \nL 456.252941 309.301654 \n\" style=\"fill: none; stroke: #000000; stroke-width: 0.8; stroke-linejoin: miter; stroke-linecap: square\"/>\n   </g>\n   <g id=\"patch_31\">\n    <path d=\"M 325.805882 178.854596 \nL 456.252941 178.854596 \n\" style=\"fill: none; stroke: #000000; stroke-width: 0.8; stroke-linejoin: miter; stroke-linecap: square\"/>\n   </g>\n   <g id=\"text_6\">\n    <!-- label = 0 -->\n    <g transform=\"translate(363.858787 172.854596) scale(0.12 -0.12)\">\n     <use xlink:href=\"#DejaVuSans-6c\"/>\n     <use xlink:href=\"#DejaVuSans-61\" x=\"27.783203\"/>\n     <use xlink:href=\"#DejaVuSans-62\" x=\"89.0625\"/>\n     <use xlink:href=\"#DejaVuSans-65\" x=\"152.539062\"/>\n     <use xlink:href=\"#DejaVuSans-6c\" x=\"214.0625\"/>\n     <use xlink:href=\"#DejaVuSans-20\" x=\"241.845703\"/>\n     <use xlink:href=\"#DejaVuSans-3d\" x=\"273.632812\"/>\n     <use xlink:href=\"#DejaVuSans-20\" x=\"357.421875\"/>\n     <use xlink:href=\"#DejaVuSans-30\" x=\"389.208984\"/>\n    </g>\n   </g>\n  </g>\n  <g id=\"axes_7\">\n   <g id=\"patch_32\">\n    <path d=\"M 10.7 465.838125 \nL 141.147059 465.838125 \nL 141.147059 335.391066 \nL 10.7 335.391066 \nz\n\" style=\"fill: #ffffff\"/>\n   </g>\n   <g clip-path=\"url(#pd299e6b9d1)\">\n    <image xlink:href=\"data:image/png;base64,\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\" id=\"image023d8c1d06\" transform=\"scale(1 -1) translate(0 -131.04)\" x=\"10.7\" y=\"-334.798125\" width=\"131.04\" height=\"131.04\"/>\n   </g>\n   <g id=\"matplotlib.axis_13\"/>\n   <g id=\"matplotlib.axis_14\"/>\n   <g id=\"patch_33\">\n    <path d=\"M 10.7 465.838125 \nL 10.7 335.391066 \n\" style=\"fill: none; stroke: #000000; stroke-width: 0.8; stroke-linejoin: miter; stroke-linecap: square\"/>\n   </g>\n   <g id=\"patch_34\">\n    <path d=\"M 141.147059 465.838125 \nL 141.147059 335.391066 \n\" style=\"fill: none; stroke: #000000; stroke-width: 0.8; stroke-linejoin: miter; stroke-linecap: square\"/>\n   </g>\n   <g id=\"patch_35\">\n    <path d=\"M 10.7 465.838125 \nL 141.147059 465.838125 \n\" style=\"fill: none; stroke: #000000; stroke-width: 0.8; stroke-linejoin: miter; stroke-linecap: square\"/>\n   </g>\n   <g id=\"patch_36\">\n    <path d=\"M 10.7 335.391066 \nL 141.147059 335.391066 \n\" style=\"fill: none; stroke: #000000; stroke-width: 0.8; stroke-linejoin: miter; stroke-linecap: square\"/>\n   </g>\n   <g id=\"text_7\">\n    <!-- label = 0 -->\n    <g transform=\"translate(48.752904 329.391066) scale(0.12 -0.12)\">\n     <use xlink:href=\"#DejaVuSans-6c\"/>\n     <use xlink:href=\"#DejaVuSans-61\" x=\"27.783203\"/>\n     <use xlink:href=\"#DejaVuSans-62\" x=\"89.0625\"/>\n     <use xlink:href=\"#DejaVuSans-65\" x=\"152.539062\"/>\n     <use xlink:href=\"#DejaVuSans-6c\" x=\"214.0625\"/>\n     <use xlink:href=\"#DejaVuSans-20\" x=\"241.845703\"/>\n     <use xlink:href=\"#DejaVuSans-3d\" x=\"273.632812\"/>\n     <use xlink:href=\"#DejaVuSans-20\" x=\"357.421875\"/>\n     <use xlink:href=\"#DejaVuSans-30\" x=\"389.208984\"/>\n    </g>\n   </g>\n  </g>\n  <g id=\"axes_8\">\n   <g id=\"patch_37\">\n    <path d=\"M 168.252941 465.838125 \nL 298.7 465.838125 \nL 298.7 335.391066 \nL 168.252941 335.391066 \nz\n\" style=\"fill: #ffffff\"/>\n   </g>\n   <g clip-path=\"url(#p539d3134ec)\">\n    <image xlink:href=\"data:image/png;base64,\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\" id=\"imageeb293146dc\" transform=\"scale(1 -1) translate(0 -131.04)\" x=\"168.252941\" y=\"-334.798125\" width=\"131.04\" height=\"131.04\"/>\n   </g>\n   <g id=\"matplotlib.axis_15\"/>\n   <g id=\"matplotlib.axis_16\"/>\n   <g id=\"patch_38\">\n    <path d=\"M 168.252941 465.838125 \nL 168.252941 335.391066 \n\" style=\"fill: none; stroke: #000000; stroke-width: 0.8; stroke-linejoin: miter; stroke-linecap: square\"/>\n   </g>\n   <g id=\"patch_39\">\n    <path d=\"M 298.7 465.838125 \nL 298.7 335.391066 \n\" style=\"fill: none; stroke: #000000; stroke-width: 0.8; stroke-linejoin: miter; stroke-linecap: square\"/>\n   </g>\n   <g id=\"patch_40\">\n    <path d=\"M 168.252941 465.838125 \nL 298.7 465.838125 \n\" style=\"fill: none; stroke: #000000; stroke-width: 0.8; stroke-linejoin: miter; stroke-linecap: square\"/>\n   </g>\n   <g id=\"patch_41\">\n    <path d=\"M 168.252941 335.391066 \nL 298.7 335.391066 \n\" style=\"fill: none; stroke: #000000; stroke-width: 0.8; stroke-linejoin: miter; stroke-linecap: square\"/>\n   </g>\n   <g id=\"text_8\">\n    <!-- label = 0 -->\n    <g transform=\"translate(206.305846 329.391066) scale(0.12 -0.12)\">\n     <use xlink:href=\"#DejaVuSans-6c\"/>\n     <use xlink:href=\"#DejaVuSans-61\" x=\"27.783203\"/>\n     <use xlink:href=\"#DejaVuSans-62\" x=\"89.0625\"/>\n     <use xlink:href=\"#DejaVuSans-65\" x=\"152.539062\"/>\n     <use xlink:href=\"#DejaVuSans-6c\" x=\"214.0625\"/>\n     <use xlink:href=\"#DejaVuSans-20\" x=\"241.845703\"/>\n     <use xlink:href=\"#DejaVuSans-3d\" x=\"273.632812\"/>\n     <use xlink:href=\"#DejaVuSans-20\" x=\"357.421875\"/>\n     <use xlink:href=\"#DejaVuSans-30\" x=\"389.208984\"/>\n    </g>\n   </g>\n  </g>\n  <g id=\"axes_9\">\n   <g id=\"patch_42\">\n    <path d=\"M 325.805882 465.838125 \nL 456.252941 465.838125 \nL 456.252941 335.391066 \nL 325.805882 335.391066 \nz\n\" style=\"fill: #ffffff\"/>\n   </g>\n   <g clip-path=\"url(#p2f2db572f4)\">\n    <image xlink:href=\"data:image/png;base64,\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\" id=\"imageecd45c72f6\" transform=\"scale(1 -1) translate(0 -131.04)\" x=\"325.805882\" y=\"-334.798125\" width=\"131.04\" height=\"131.04\"/>\n   </g>\n   <g id=\"matplotlib.axis_17\"/>\n   <g id=\"matplotlib.axis_18\"/>\n   <g id=\"patch_43\">\n    <path d=\"M 325.805882 465.838125 \nL 325.805882 335.391066 \n\" style=\"fill: none; stroke: #000000; stroke-width: 0.8; stroke-linejoin: miter; stroke-linecap: square\"/>\n   </g>\n   <g id=\"patch_44\">\n    <path d=\"M 456.252941 465.838125 \nL 456.252941 335.391066 \n\" style=\"fill: none; stroke: #000000; stroke-width: 0.8; stroke-linejoin: miter; stroke-linecap: square\"/>\n   </g>\n   <g id=\"patch_45\">\n    <path d=\"M 325.805882 465.838125 \nL 456.252941 465.838125 \n\" style=\"fill: none; stroke: #000000; stroke-width: 0.8; stroke-linejoin: miter; stroke-linecap: square\"/>\n   </g>\n   <g id=\"patch_46\">\n    <path d=\"M 325.805882 335.391066 \nL 456.252941 335.391066 \n\" style=\"fill: none; stroke: #000000; stroke-width: 0.8; stroke-linejoin: miter; stroke-linecap: square\"/>\n   </g>\n   <g id=\"text_9\">\n    <!-- label = 0 -->\n    <g transform=\"translate(363.858787 329.391066) scale(0.12 -0.12)\">\n     <use xlink:href=\"#DejaVuSans-6c\"/>\n     <use xlink:href=\"#DejaVuSans-61\" x=\"27.783203\"/>\n     <use xlink:href=\"#DejaVuSans-62\" x=\"89.0625\"/>\n     <use xlink:href=\"#DejaVuSans-65\" x=\"152.539062\"/>\n     <use xlink:href=\"#DejaVuSans-6c\" x=\"214.0625\"/>\n     <use xlink:href=\"#DejaVuSans-20\" x=\"241.845703\"/>\n     <use xlink:href=\"#DejaVuSans-3d\" x=\"273.632812\"/>\n     <use xlink:href=\"#DejaVuSans-20\" x=\"357.421875\"/>\n     <use xlink:href=\"#DejaVuSans-30\" x=\"389.208984\"/>\n    </g>\n   </g>\n  </g>\n </g>\n <defs>\n  <clipPath id=\"p3519f9bef9\">\n   <rect x=\"10.7\" y=\"22.318125\" width=\"130.447059\" height=\"130.447059\"/>\n  </clipPath>\n  <clipPath id=\"pd9bc99fdd8\">\n   <rect x=\"168.252941\" y=\"22.318125\" width=\"130.447059\" height=\"130.447059\"/>\n  </clipPath>\n  <clipPath id=\"p26e99eadd1\">\n   <rect x=\"325.805882\" y=\"22.318125\" width=\"130.447059\" height=\"130.447059\"/>\n  </clipPath>\n  <clipPath id=\"pc88e445e60\">\n   <rect x=\"10.7\" y=\"178.854596\" width=\"130.447059\" height=\"130.447059\"/>\n  </clipPath>\n  <clipPath id=\"pbaddfd4dc2\">\n   <rect x=\"168.252941\" y=\"178.854596\" width=\"130.447059\" height=\"130.447059\"/>\n  </clipPath>\n  <clipPath id=\"p8bba9e288c\">\n   <rect x=\"325.805882\" y=\"178.854596\" width=\"130.447059\" height=\"130.447059\"/>\n  </clipPath>\n  <clipPath id=\"pd299e6b9d1\">\n   <rect x=\"10.7\" y=\"335.391066\" width=\"130.447059\" height=\"130.447059\"/>\n  </clipPath>\n  <clipPath id=\"p539d3134ec\">\n   <rect x=\"168.252941\" y=\"335.391066\" width=\"130.447059\" height=\"130.447059\"/>\n  </clipPath>\n  <clipPath id=\"p2f2db572f4\">\n   <rect x=\"325.805882\" y=\"335.391066\" width=\"130.447059\" height=\"130.447059\"/>\n  </clipPath>\n </defs>\n</svg>\n",
      "text/plain": [
       "<Figure size 800x800 with 9 Axes>"
      ]
     },
     "metadata": {},
     "output_type": "display_data"
    }
   ],
   "source": [
    "%matplotlib inline\n",
    "%config InlineBackend.figure_format = 'svg'\n",
    "\n",
    "#查看部分样本\n",
    "from matplotlib import pyplot as plt \n",
    "\n",
    "plt.figure(figsize=(8,8)) \n",
    "for i in range(9):\n",
    "    img,label = ds_train[i]\n",
    "    img = img.permute(1,2,0)\n",
    "    ax=plt.subplot(3,3,i+1)\n",
    "    ax.imshow(img.numpy())\n",
    "    ax.set_title(\"label = %d\"%label.item())\n",
    "    ax.set_xticks([])\n",
    "    ax.set_yticks([]) \n",
    "plt.show()\n"
   ]
  },
  {
   "cell_type": "markdown",
   "id": "443f6581",
   "metadata": {},
   "source": [
    "![](./data/1-2-查看样本.png)"
   ]
  },
  {
   "cell_type": "code",
   "execution_count": 8,
   "id": "367ccf3b",
   "metadata": {},
   "outputs": [
    {
     "name": "stdout",
     "output_type": "stream",
     "text": [
      "torch.Size([50, 3, 32, 32]) torch.Size([50, 1])\n"
     ]
    }
   ],
   "source": [
    "# Pytorch的图片默认顺序是 Batch,Channel,Width,Height\n",
    "for features,labels in dl_train:\n",
    "    print(features.shape,labels.shape) \n",
    "    break\n",
    "    "
   ]
  },
  {
   "cell_type": "markdown",
   "id": "8c614279",
   "metadata": {},
   "source": [
    "### 二，定义模型"
   ]
  },
  {
   "cell_type": "markdown",
   "id": "d496cb9e",
   "metadata": {},
   "source": [
    "使用Pytorch通常有三种方式构建模型：使用nn.Sequential按层顺序构建模型，继承nn.Module基类构建自定义模型，继承nn.Module基类构建模型并辅助应用模型容器(nn.Sequential,nn.ModuleList,nn.ModuleDict)进行封装。\n",
    "\n",
    "此处选择通过继承nn.Module基类构建自定义模型。"
   ]
  },
  {
   "cell_type": "code",
   "execution_count": 9,
   "id": "dde64c23",
   "metadata": {},
   "outputs": [
    {
     "data": {
      "text/plain": [
       "torch.Size([10, 8, 1, 1])"
      ]
     },
     "execution_count": 9,
     "metadata": {},
     "output_type": "execute_result"
    }
   ],
   "source": [
    "#测试AdaptiveMaxPool2d的效果\n",
    "pool = nn.AdaptiveMaxPool2d((1,1))\n",
    "t = torch.randn(10,8,32,32)\n",
    "pool(t).shape "
   ]
  },
  {
   "cell_type": "code",
   "execution_count": 10,
   "id": "39d23d45",
   "metadata": {},
   "outputs": [
    {
     "name": "stdout",
     "output_type": "stream",
     "text": [
      "Net(\n",
      "  (conv1): Conv2d(3, 32, kernel_size=(3, 3), stride=(1, 1))\n",
      "  (pool): MaxPool2d(kernel_size=2, stride=2, padding=0, dilation=1, ceil_mode=False)\n",
      "  (conv2): Conv2d(32, 64, kernel_size=(5, 5), stride=(1, 1))\n",
      "  (dropout): Dropout2d(p=0.1, inplace=False)\n",
      "  (adaptive_pool): AdaptiveMaxPool2d(output_size=(1, 1))\n",
      "  (flatten): Flatten(start_dim=1, end_dim=-1)\n",
      "  (linear1): Linear(in_features=64, out_features=32, bias=True)\n",
      "  (relu): ReLU()\n",
      "  (linear2): Linear(in_features=32, out_features=1, bias=True)\n",
      ")\n"
     ]
    }
   ],
   "source": [
    "class Net(nn.Module):\n",
    "    \n",
    "    def __init__(self):\n",
    "        super(Net, self).__init__()\n",
    "        self.conv1 = nn.Conv2d(in_channels=3,out_channels=32,kernel_size = 3)\n",
    "        self.pool = nn.MaxPool2d(kernel_size = 2,stride = 2)\n",
    "        self.conv2 = nn.Conv2d(in_channels=32,out_channels=64,kernel_size = 5)\n",
    "        self.dropout = nn.Dropout2d(p = 0.1)\n",
    "        self.adaptive_pool = nn.AdaptiveMaxPool2d((1,1))\n",
    "        self.flatten = nn.Flatten()\n",
    "        self.linear1 = nn.Linear(64,32)\n",
    "        self.relu = nn.ReLU()\n",
    "        self.linear2 = nn.Linear(32,1)\n",
    "        \n",
    "    def forward(self,x):\n",
    "        x = self.conv1(x)\n",
    "        x = self.pool(x)\n",
    "        x = self.conv2(x)\n",
    "        x = self.pool(x)\n",
    "        x = self.dropout(x)\n",
    "        x = self.adaptive_pool(x)\n",
    "        x = self.flatten(x)\n",
    "        x = self.linear1(x)\n",
    "        x = self.relu(x)\n",
    "        x = self.linear2(x)\n",
    "        return x \n",
    "        \n",
    "net = Net()\n",
    "print(net)"
   ]
  },
  {
   "cell_type": "code",
   "execution_count": 11,
   "id": "98f6d94d",
   "metadata": {},
   "outputs": [
    {
     "name": "stdout",
     "output_type": "stream",
     "text": [
      "--------------------------------------------------------------------------\n",
      "Layer (type)                            Output Shape              Param #\n",
      "==========================================================================\n",
      "Conv2d-1                            [-1, 32, 30, 30]                  896\n",
      "MaxPool2d-2                         [-1, 32, 15, 15]                    0\n",
      "Conv2d-3                            [-1, 64, 11, 11]               51,264\n",
      "MaxPool2d-4                           [-1, 64, 5, 5]                    0\n",
      "Dropout2d-5                           [-1, 64, 5, 5]                    0\n",
      "AdaptiveMaxPool2d-6                   [-1, 64, 1, 1]                    0\n",
      "Flatten-7                                   [-1, 64]                    0\n",
      "Linear-8                                    [-1, 32]                2,080\n",
      "ReLU-9                                      [-1, 32]                    0\n",
      "Linear-10                                    [-1, 1]                   33\n",
      "==========================================================================\n",
      "Total params: 54,273\n",
      "Trainable params: 54,273\n",
      "Non-trainable params: 0\n",
      "--------------------------------------------------------------------------\n",
      "Input size (MB): 0.000069\n",
      "Forward/backward pass size (MB): 0.359627\n",
      "Params size (MB): 0.207035\n",
      "Estimated Total Size (MB): 0.566730\n",
      "--------------------------------------------------------------------------\n"
     ]
    }
   ],
   "source": [
    "import torchkeras\n",
    "torchkeras.summary(net,input_data = features)"
   ]
  },
  {
   "cell_type": "markdown",
   "id": "a141ab6f",
   "metadata": {},
   "source": [
    "### 三，训练模型"
   ]
  },
  {
   "cell_type": "markdown",
   "id": "b1dbb766",
   "metadata": {},
   "source": [
    "Pytorch通常需要用户编写自定义训练循环，训练循环的代码风格因人而异。\n",
    "\n",
    "有3类典型的训练循环代码风格：脚本形式训练循环，函数形式训练循环，类形式训练循环。\n",
    "\n",
    "此处介绍一种较通用的仿照Keras风格的函数形式的训练循环。\n",
    "\n",
    "该训练循环的代码也是torchkeras库的核心代码。\n",
    "\n",
    "torchkeras详情:  https://github.com/lyhue1991/torchkeras \n"
   ]
  },
  {
   "cell_type": "code",
   "execution_count": 13,
   "id": "5beafb9e",
   "metadata": {},
   "outputs": [],
   "source": [
    "import os,sys,time\n",
    "import numpy as np\n",
    "import pandas as pd\n",
    "import datetime \n",
    "from tqdm import tqdm \n",
    "\n",
    "import torch\n",
    "from torch import nn \n",
    "from copy import deepcopy\n",
    "\n",
    "def printlog(info):\n",
    "    nowtime = datetime.datetime.now().strftime('%Y-%m-%d %H:%M:%S')\n",
    "    print(\"\\n\"+\"==========\"*8 + \"%s\"%nowtime)\n",
    "    print(str(info)+\"\\n\")\n",
    "\n",
    "class StepRunner:\n",
    "    def __init__(self, net, loss_fn,\n",
    "                 stage = \"train\", metrics_dict = None, \n",
    "                 optimizer = None\n",
    "                 ):\n",
    "        self.net,self.loss_fn,self.metrics_dict,self.stage = net,loss_fn,metrics_dict,stage\n",
    "        self.optimizer = optimizer\n",
    "            \n",
    "    def step(self, features, labels):\n",
    "        #loss\n",
    "        preds = self.net(features)\n",
    "        loss = self.loss_fn(preds,labels)\n",
    "        \n",
    "        #backward()\n",
    "        if self.optimizer is not None and self.stage==\"train\": \n",
    "            loss.backward()\n",
    "            self.optimizer.step()\n",
    "            self.optimizer.zero_grad()\n",
    "            \n",
    "        #metrics\n",
    "        step_metrics = {self.stage+\"_\"+name:metric_fn(preds, labels).item() \n",
    "                        for name,metric_fn in self.metrics_dict.items()}\n",
    "        return loss.item(),step_metrics\n",
    "    \n",
    "    def train_step(self,features,labels):\n",
    "        self.net.train() #训练模式, dropout层发生作用\n",
    "        return self.step(features,labels)\n",
    "    \n",
    "    @torch.no_grad()\n",
    "    def eval_step(self,features,labels):\n",
    "        self.net.eval() #预测模式, dropout层不发生作用\n",
    "        return self.step(features,labels)\n",
    "    \n",
    "    def __call__(self,features,labels):\n",
    "        if self.stage==\"train\":\n",
    "            return self.train_step(features,labels) \n",
    "        else:\n",
    "            return self.eval_step(features,labels)\n",
    "        \n",
    "class EpochRunner:\n",
    "    def __init__(self,steprunner):\n",
    "        self.steprunner = steprunner\n",
    "        self.stage = steprunner.stage\n",
    "        \n",
    "    def __call__(self,dataloader):\n",
    "        total_loss,step = 0,0\n",
    "        loop = tqdm(enumerate(dataloader),total =len(dataloader),file = sys.stdout)\n",
    "        for i, batch in loop: \n",
    "            loss, step_metrics = self.steprunner(*batch)\n",
    "            step_log = dict({self.stage+\"_loss\":loss},**step_metrics)\n",
    "            total_loss += loss\n",
    "            step+=1\n",
    "            if i!=len(dataloader)-1:\n",
    "                loop.set_postfix(**step_log)\n",
    "            else:\n",
    "                epoch_loss = total_loss/step\n",
    "                epoch_metrics = {self.stage+\"_\"+name:metric_fn.compute().item() \n",
    "                                 for name,metric_fn in self.steprunner.metrics_dict.items()}\n",
    "                epoch_log = dict({self.stage+\"_loss\":epoch_loss},**epoch_metrics)\n",
    "                loop.set_postfix(**epoch_log)\n",
    "\n",
    "                for name,metric_fn in self.steprunner.metrics_dict.items():\n",
    "                    metric_fn.reset()\n",
    "        return epoch_log\n",
    "\n",
    "\n",
    "def train_model(net, optimizer, loss_fn, metrics_dict, \n",
    "                train_data, val_data=None, \n",
    "                epochs=10, ckpt_path='checkpoint.pt',\n",
    "                patience=5, monitor=\"val_loss\", mode=\"min\"):\n",
    "    \n",
    "    history = {}\n",
    "\n",
    "    for epoch in range(1, epochs+1):\n",
    "        printlog(\"Epoch {0} / {1}\".format(epoch, epochs))\n",
    "\n",
    "        # 1，train -------------------------------------------------  \n",
    "        train_step_runner = StepRunner(net = net,stage=\"train\",\n",
    "                loss_fn = loss_fn,metrics_dict=deepcopy(metrics_dict),\n",
    "                optimizer = optimizer)\n",
    "        train_epoch_runner = EpochRunner(train_step_runner)\n",
    "        train_metrics = train_epoch_runner(train_data)\n",
    "\n",
    "        for name, metric in train_metrics.items():\n",
    "            history[name] = history.get(name, []) + [metric]\n",
    "\n",
    "        # 2，validate -------------------------------------------------\n",
    "        if val_data:\n",
    "            val_step_runner = StepRunner(net = net,stage=\"val\",\n",
    "                loss_fn = loss_fn,metrics_dict=deepcopy(metrics_dict))\n",
    "            val_epoch_runner = EpochRunner(val_step_runner)\n",
    "            with torch.no_grad():\n",
    "                val_metrics = val_epoch_runner(val_data)\n",
    "            val_metrics[\"epoch\"] = epoch\n",
    "            for name, metric in val_metrics.items():\n",
    "                history[name] = history.get(name, []) + [metric]\n",
    "\n",
    "        # 3，early-stopping -------------------------------------------------\n",
    "        arr_scores = history[monitor]\n",
    "        best_score_idx = np.argmax(arr_scores) if mode==\"max\" else np.argmin(arr_scores)\n",
    "        if best_score_idx==len(arr_scores)-1:\n",
    "            torch.save(net.state_dict(),ckpt_path)\n",
    "            print(\"<<<<<< reach best {0} : {1} >>>>>>\".format(monitor,\n",
    "                 arr_scores[best_score_idx]),file=sys.stderr)\n",
    "        if len(arr_scores)-best_score_idx>patience:\n",
    "            print(\"<<<<<< {} without improvement in {} epoch, early stopping >>>>>>\".format(\n",
    "                monitor,patience),file=sys.stderr)\n",
    "            break \n",
    "        net.load_state_dict(torch.load(ckpt_path))\n",
    "\n",
    "    return pd.DataFrame(history)\n"
   ]
  },
  {
   "cell_type": "code",
   "execution_count": 20,
   "id": "76a95080",
   "metadata": {},
   "outputs": [
    {
     "name": "stdout",
     "output_type": "stream",
     "text": [
      "\n",
      "================================================================================2023-08-02 11:52:19\n",
      "Epoch 1 / 10\n",
      "\n",
      "100%|███████████████████████████████████████████████████████████████████████████████████████████████████████████████████████████████████| 200/200 [00:07<00:00, 27.67it/s, train_acc=0.739, train_loss=0.53]\n",
      "100%|████████████████████████████████████████████████████████████████████████████████████████████████████████████████████████████████████████| 40/40 [00:00<00:00, 56.70it/s, val_acc=0.777, val_loss=0.442]"
     ]
    },
    {
     "name": "stderr",
     "output_type": "stream",
     "text": [
      "<<<<<< reach best val_acc : 0.7774999737739563 >>>>>>\n"
     ]
    },
    {
     "name": "stdout",
     "output_type": "stream",
     "text": [
      "\n",
      "\n",
      "================================================================================2023-08-02 11:52:27\n",
      "Epoch 2 / 10\n",
      "\n",
      "100%|██████████████████████████████████████████████████████████████████████████████████████████████████████████████████████████████████| 200/200 [00:06<00:00, 31.16it/s, train_acc=0.838, train_loss=0.371]\n",
      "100%|████████████████████████████████████████████████████████████████████████████████████████████████████████████████████████████████████████| 40/40 [00:00<00:00, 71.84it/s, val_acc=0.878, val_loss=0.302]\n",
      "\n",
      "================================================================================2023-08-02 11:52:34\n",
      "Epoch 3 / 10\n",
      "\n"
     ]
    },
    {
     "name": "stderr",
     "output_type": "stream",
     "text": [
      "<<<<<< reach best val_acc : 0.8784999847412109 >>>>>>\n"
     ]
    },
    {
     "name": "stdout",
     "output_type": "stream",
     "text": [
      "100%|███████████████████████████████████████████████████████████████████████████████████████████████████████████████████████████████████| 200/200 [00:06<00:00, 32.75it/s, train_acc=0.882, train_loss=0.29]\n",
      "100%|█████████████████████████████████████████████████████████████████████████████████████████████████████████████████████████████████████████| 40/40 [00:00<00:00, 63.77it/s, val_acc=0.905, val_loss=0.23]\n",
      "\n",
      "================================================================================2023-08-02 11:52:41\n",
      "Epoch 4 / 10\n",
      "\n"
     ]
    },
    {
     "name": "stderr",
     "output_type": "stream",
     "text": [
      "<<<<<< reach best val_acc : 0.9045000076293945 >>>>>>\n"
     ]
    },
    {
     "name": "stdout",
     "output_type": "stream",
     "text": [
      "100%|████████████████████████████████████████████████████████████████████████████████████████████████████████████████████████████████████| 200/200 [00:05<00:00, 33.38it/s, train_acc=0.9, train_loss=0.245]\n",
      "100%|██████████████████████████████████████████████████████████████████████████████████████████████████████████████████████████████████████████| 40/40 [00:00<00:00, 74.00it/s, val_acc=0.91, val_loss=0.23]"
     ]
    },
    {
     "name": "stderr",
     "output_type": "stream",
     "text": [
      "<<<<<< reach best val_acc : 0.9100000262260437 >>>>>>\n"
     ]
    },
    {
     "name": "stdout",
     "output_type": "stream",
     "text": [
      "\n",
      "\n",
      "================================================================================2023-08-02 11:52:48\n",
      "Epoch 5 / 10\n",
      "\n",
      "100%|██████████████████████████████████████████████████████████████████████████████████████████████████████████████████████████████████| 200/200 [00:05<00:00, 33.56it/s, train_acc=0.908, train_loss=0.229]\n",
      "100%|████████████████████████████████████████████████████████████████████████████████████████████████████████████████████████████████████████| 40/40 [00:00<00:00, 74.86it/s, val_acc=0.898, val_loss=0.247]\n",
      "\n",
      "================================================================================2023-08-02 11:52:54\n",
      "Epoch 6 / 10\n",
      "\n",
      "100%|███████████████████████████████████████████████████████████████████████████████████████████████████████████████████████████████████| 200/200 [00:06<00:00, 32.83it/s, train_acc=0.909, train_loss=0.22]\n",
      "100%|████████████████████████████████████████████████████████████████████████████████████████████████████████████████████████████████████████| 40/40 [00:00<00:00, 74.57it/s, val_acc=0.888, val_loss=0.269]\n",
      "\n",
      "================================================================================2023-08-02 11:53:01\n",
      "Epoch 7 / 10\n",
      "\n",
      "100%|██████████████████████████████████████████████████████████████████████████████████████████████████████████████████████████████████| 200/200 [00:06<00:00, 32.27it/s, train_acc=0.915, train_loss=0.213]\n",
      "100%|████████████████████████████████████████████████████████████████████████████████████████████████████████████████████████████████████████| 40/40 [00:00<00:00, 70.35it/s, val_acc=0.916, val_loss=0.204]"
     ]
    },
    {
     "name": "stderr",
     "output_type": "stream",
     "text": [
      "<<<<<< reach best val_acc : 0.9160000085830688 >>>>>>\n"
     ]
    },
    {
     "name": "stdout",
     "output_type": "stream",
     "text": [
      "\n",
      "\n",
      "================================================================================2023-08-02 11:53:08\n",
      "Epoch 8 / 10\n",
      "\n",
      "100%|██████████████████████████████████████████████████████████████████████████████████████████████████████████████████████████████████| 200/200 [00:06<00:00, 31.96it/s, train_acc=0.911, train_loss=0.217]\n",
      "100%|████████████████████████████████████████████████████████████████████████████████████████████████████████████████████████████████████████| 40/40 [00:00<00:00, 69.81it/s, val_acc=0.918, val_loss=0.213]"
     ]
    },
    {
     "name": "stderr",
     "output_type": "stream",
     "text": [
      "<<<<<< reach best val_acc : 0.9179999828338623 >>>>>>\n"
     ]
    },
    {
     "name": "stdout",
     "output_type": "stream",
     "text": [
      "\n",
      "\n",
      "================================================================================2023-08-02 11:53:14\n",
      "Epoch 9 / 10\n",
      "\n",
      "100%|██████████████████████████████████████████████████████████████████████████████████████████████████████████████████████████████████| 200/200 [00:06<00:00, 32.45it/s, train_acc=0.927, train_loss=0.185]\n",
      "100%|████████████████████████████████████████████████████████████████████████████████████████████████████████████████████████████████████████| 40/40 [00:00<00:00, 72.63it/s, val_acc=0.916, val_loss=0.211]\n",
      "\n",
      "================================================================================2023-08-02 11:53:21\n",
      "Epoch 10 / 10\n",
      "\n",
      "100%|██████████████████████████████████████████████████████████████████████████████████████████████████████████████████████████████████| 200/200 [00:06<00:00, 32.46it/s, train_acc=0.926, train_loss=0.187]\n",
      "100%|████████████████████████████████████████████████████████████████████████████████████████████████████████████████████████████████████████| 40/40 [00:00<00:00, 70.51it/s, val_acc=0.925, val_loss=0.207]\n"
     ]
    },
    {
     "name": "stderr",
     "output_type": "stream",
     "text": [
      "<<<<<< reach best val_acc : 0.9254999756813049 >>>>>>\n"
     ]
    }
   ],
   "source": [
    "import torchmetrics \n",
    "\n",
    "class Accuracy(torchmetrics.Accuracy):\n",
    "    def __init__(self, dist_sync_on_step=False):\n",
    "        super().__init__(dist_sync_on_step=dist_sync_on_step)\n",
    "        \n",
    "    def update(self, preds: torch.Tensor, targets: torch.Tensor):\n",
    "        super().update(torch.sigmoid(preds),targets.long())\n",
    "            \n",
    "    def compute(self):\n",
    "        return super().compute()\n",
    "    \n",
    "    \n",
    "loss_fn = nn.BCEWithLogitsLoss()\n",
    "optimizer= torch.optim.Adam(net.parameters(),lr = 0.01)   \n",
    "metrics_dict = {\"acc\":Accuracy(task='binary')}\n",
    "\n",
    "dfhistory = train_model(net,\n",
    "    optimizer,\n",
    "    loss_fn,\n",
    "    metrics_dict,\n",
    "    train_data = dl_train,\n",
    "    val_data= dl_val,\n",
    "    epochs=10,\n",
    "    patience=5,\n",
    "    monitor=\"val_acc\", \n",
    "    mode=\"max\")\n"
   ]
  },
  {
   "cell_type": "code",
   "execution_count": null,
   "id": "94c82203",
   "metadata": {},
   "outputs": [],
   "source": []
  },
  {
   "cell_type": "markdown",
   "id": "2534de95",
   "metadata": {},
   "source": [
    "### 四，评估模型"
   ]
  },
  {
   "cell_type": "code",
   "execution_count": 21,
   "id": "1ead5148",
   "metadata": {},
   "outputs": [
    {
     "data": {
      "text/html": [
       "<div>\n",
       "<style scoped>\n",
       "    .dataframe tbody tr th:only-of-type {\n",
       "        vertical-align: middle;\n",
       "    }\n",
       "\n",
       "    .dataframe tbody tr th {\n",
       "        vertical-align: top;\n",
       "    }\n",
       "\n",
       "    .dataframe thead th {\n",
       "        text-align: right;\n",
       "    }\n",
       "</style>\n",
       "<table border=\"1\" class=\"dataframe\">\n",
       "  <thead>\n",
       "    <tr style=\"text-align: right;\">\n",
       "      <th></th>\n",
       "      <th>train_loss</th>\n",
       "      <th>train_acc</th>\n",
       "      <th>val_loss</th>\n",
       "      <th>val_acc</th>\n",
       "      <th>epoch</th>\n",
       "    </tr>\n",
       "  </thead>\n",
       "  <tbody>\n",
       "    <tr>\n",
       "      <th>0</th>\n",
       "      <td>0.529700</td>\n",
       "      <td>0.7395</td>\n",
       "      <td>0.441578</td>\n",
       "      <td>0.7775</td>\n",
       "      <td>1</td>\n",
       "    </tr>\n",
       "    <tr>\n",
       "      <th>1</th>\n",
       "      <td>0.371428</td>\n",
       "      <td>0.8377</td>\n",
       "      <td>0.301706</td>\n",
       "      <td>0.8785</td>\n",
       "      <td>2</td>\n",
       "    </tr>\n",
       "    <tr>\n",
       "      <th>2</th>\n",
       "      <td>0.289571</td>\n",
       "      <td>0.8816</td>\n",
       "      <td>0.230052</td>\n",
       "      <td>0.9045</td>\n",
       "      <td>3</td>\n",
       "    </tr>\n",
       "    <tr>\n",
       "      <th>3</th>\n",
       "      <td>0.244945</td>\n",
       "      <td>0.9002</td>\n",
       "      <td>0.229661</td>\n",
       "      <td>0.9100</td>\n",
       "      <td>4</td>\n",
       "    </tr>\n",
       "    <tr>\n",
       "      <th>4</th>\n",
       "      <td>0.228657</td>\n",
       "      <td>0.9079</td>\n",
       "      <td>0.246743</td>\n",
       "      <td>0.8980</td>\n",
       "      <td>5</td>\n",
       "    </tr>\n",
       "    <tr>\n",
       "      <th>5</th>\n",
       "      <td>0.220191</td>\n",
       "      <td>0.9094</td>\n",
       "      <td>0.269375</td>\n",
       "      <td>0.8880</td>\n",
       "      <td>6</td>\n",
       "    </tr>\n",
       "    <tr>\n",
       "      <th>6</th>\n",
       "      <td>0.212987</td>\n",
       "      <td>0.9148</td>\n",
       "      <td>0.203596</td>\n",
       "      <td>0.9160</td>\n",
       "      <td>7</td>\n",
       "    </tr>\n",
       "    <tr>\n",
       "      <th>7</th>\n",
       "      <td>0.217182</td>\n",
       "      <td>0.9107</td>\n",
       "      <td>0.212565</td>\n",
       "      <td>0.9180</td>\n",
       "      <td>8</td>\n",
       "    </tr>\n",
       "    <tr>\n",
       "      <th>8</th>\n",
       "      <td>0.184843</td>\n",
       "      <td>0.9273</td>\n",
       "      <td>0.210720</td>\n",
       "      <td>0.9160</td>\n",
       "      <td>9</td>\n",
       "    </tr>\n",
       "    <tr>\n",
       "      <th>9</th>\n",
       "      <td>0.187024</td>\n",
       "      <td>0.9261</td>\n",
       "      <td>0.207067</td>\n",
       "      <td>0.9255</td>\n",
       "      <td>10</td>\n",
       "    </tr>\n",
       "  </tbody>\n",
       "</table>\n",
       "</div>"
      ],
      "text/plain": [
       "   train_loss  train_acc  val_loss  val_acc  epoch\n",
       "0    0.529700     0.7395  0.441578   0.7775      1\n",
       "1    0.371428     0.8377  0.301706   0.8785      2\n",
       "2    0.289571     0.8816  0.230052   0.9045      3\n",
       "3    0.244945     0.9002  0.229661   0.9100      4\n",
       "4    0.228657     0.9079  0.246743   0.8980      5\n",
       "5    0.220191     0.9094  0.269375   0.8880      6\n",
       "6    0.212987     0.9148  0.203596   0.9160      7\n",
       "7    0.217182     0.9107  0.212565   0.9180      8\n",
       "8    0.184843     0.9273  0.210720   0.9160      9\n",
       "9    0.187024     0.9261  0.207067   0.9255     10"
      ]
     },
     "execution_count": 21,
     "metadata": {},
     "output_type": "execute_result"
    }
   ],
   "source": [
    "dfhistory "
   ]
  },
  {
   "cell_type": "code",
   "execution_count": null,
   "id": "ad94daa3",
   "metadata": {},
   "outputs": [],
   "source": []
  },
  {
   "cell_type": "code",
   "execution_count": 22,
   "id": "d17bb6de",
   "metadata": {},
   "outputs": [],
   "source": [
    "%matplotlib inline\n",
    "%config InlineBackend.figure_format = 'svg'\n",
    "\n",
    "import matplotlib.pyplot as plt\n",
    "\n",
    "def plot_metric(dfhistory, metric):\n",
    "    train_metrics = dfhistory[\"train_\"+metric]\n",
    "    val_metrics = dfhistory['val_'+metric]\n",
    "    epochs = range(1, len(train_metrics) + 1)\n",
    "    plt.plot(epochs, train_metrics, 'bo--')\n",
    "    plt.plot(epochs, val_metrics, 'ro-')\n",
    "    plt.title('Training and validation '+ metric)\n",
    "    plt.xlabel(\"Epochs\")\n",
    "    plt.ylabel(metric)\n",
    "    plt.legend([\"train_\"+metric, 'val_'+metric])\n",
    "    plt.show()"
   ]
  },
  {
   "cell_type": "code",
   "execution_count": 23,
   "id": "9350e7e2",
   "metadata": {},
   "outputs": [
    {
     "data": {
      "image/svg+xml": "<?xml version=\"1.0\" encoding=\"utf-8\" standalone=\"no\"?>\n<!DOCTYPE svg PUBLIC \"-//W3C//DTD SVG 1.1//EN\"\n  \"http://www.w3.org/Graphics/SVG/1.1/DTD/svg11.dtd\">\n<svg xmlns:xlink=\"http://www.w3.org/1999/xlink\" width=\"414.46375pt\" height=\"325.986375pt\" viewBox=\"0 0 414.46375 325.986375\" xmlns=\"http://www.w3.org/2000/svg\" version=\"1.1\">\n <metadata>\n  <rdf:RDF xmlns:dc=\"http://purl.org/dc/elements/1.1/\" xmlns:cc=\"http://creativecommons.org/ns#\" xmlns:rdf=\"http://www.w3.org/1999/02/22-rdf-syntax-ns#\">\n   <cc:Work>\n    <dc:type rdf:resource=\"http://purl.org/dc/dcmitype/StillImage\"/>\n    <dc:date>2023-08-02T11:53:41.059397</dc:date>\n    <dc:format>image/svg+xml</dc:format>\n    <dc:creator>\n     <cc:Agent>\n      <dc:title>Matplotlib v3.6.2, https://matplotlib.org/</dc:title>\n     </cc:Agent>\n    </dc:creator>\n   </cc:Work>\n  </rdf:RDF>\n </metadata>\n <defs>\n  <style type=\"text/css\">*{stroke-linejoin: round; stroke-linecap: butt}</style>\n </defs>\n <g id=\"figure_1\">\n  <g id=\"patch_1\">\n   <path d=\"M 0 325.986375 \nL 414.46375 325.986375 \nL 414.46375 0 \nL 0 0 \nz\n\" style=\"fill: #ffffff\"/>\n  </g>\n  <g id=\"axes_1\">\n   <g id=\"patch_2\">\n    <path d=\"M 50.14375 288.430125 \nL 407.26375 288.430125 \nL 407.26375 22.318125 \nL 50.14375 22.318125 \nz\n\" style=\"fill: #ffffff\"/>\n   </g>\n   <g id=\"matplotlib.axis_1\">\n    <g id=\"xtick_1\">\n     <g id=\"line2d_1\">\n      <defs>\n       <path id=\"m28563e115a\" d=\"M 0 0 \nL 0 3.5 \n\" style=\"stroke: #000000; stroke-width: 0.8\"/>\n      </defs>\n      <g>\n       <use xlink:href=\"#m28563e115a\" x=\"102.449205\" y=\"288.430125\" style=\"stroke: #000000; stroke-width: 0.8\"/>\n      </g>\n     </g>\n     <g id=\"text_1\">\n      <!-- 2 -->\n      <g transform=\"translate(99.267955 303.028562) scale(0.1 -0.1)\">\n       <defs>\n        <path id=\"DejaVuSans-32\" d=\"M 1228 531 \nL 3431 531 \nL 3431 0 \nL 469 0 \nL 469 531 \nQ 828 903 1448 1529 \nQ 2069 2156 2228 2338 \nQ 2531 2678 2651 2914 \nQ 2772 3150 2772 3378 \nQ 2772 3750 2511 3984 \nQ 2250 4219 1831 4219 \nQ 1534 4219 1204 4116 \nQ 875 4013 500 3803 \nL 500 4441 \nQ 881 4594 1212 4672 \nQ 1544 4750 1819 4750 \nQ 2544 4750 2975 4387 \nQ 3406 4025 3406 3419 \nQ 3406 3131 3298 2873 \nQ 3191 2616 2906 2266 \nQ 2828 2175 2409 1742 \nQ 1991 1309 1228 531 \nz\n\" transform=\"scale(0.015625)\"/>\n       </defs>\n       <use xlink:href=\"#DejaVuSans-32\"/>\n      </g>\n     </g>\n    </g>\n    <g id=\"xtick_2\">\n     <g id=\"line2d_2\">\n      <g>\n       <use xlink:href=\"#m28563e115a\" x=\"174.594659\" y=\"288.430125\" style=\"stroke: #000000; stroke-width: 0.8\"/>\n      </g>\n     </g>\n     <g id=\"text_2\">\n      <!-- 4 -->\n      <g transform=\"translate(171.413409 303.028562) scale(0.1 -0.1)\">\n       <defs>\n        <path id=\"DejaVuSans-34\" d=\"M 2419 4116 \nL 825 1625 \nL 2419 1625 \nL 2419 4116 \nz\nM 2253 4666 \nL 3047 4666 \nL 3047 1625 \nL 3713 1625 \nL 3713 1100 \nL 3047 1100 \nL 3047 0 \nL 2419 0 \nL 2419 1100 \nL 313 1100 \nL 313 1709 \nL 2253 4666 \nz\n\" transform=\"scale(0.015625)\"/>\n       </defs>\n       <use xlink:href=\"#DejaVuSans-34\"/>\n      </g>\n     </g>\n    </g>\n    <g id=\"xtick_3\">\n     <g id=\"line2d_3\">\n      <g>\n       <use xlink:href=\"#m28563e115a\" x=\"246.740114\" y=\"288.430125\" style=\"stroke: #000000; stroke-width: 0.8\"/>\n      </g>\n     </g>\n     <g id=\"text_3\">\n      <!-- 6 -->\n      <g transform=\"translate(243.558864 303.028562) scale(0.1 -0.1)\">\n       <defs>\n        <path id=\"DejaVuSans-36\" d=\"M 2113 2584 \nQ 1688 2584 1439 2293 \nQ 1191 2003 1191 1497 \nQ 1191 994 1439 701 \nQ 1688 409 2113 409 \nQ 2538 409 2786 701 \nQ 3034 994 3034 1497 \nQ 3034 2003 2786 2293 \nQ 2538 2584 2113 2584 \nz\nM 3366 4563 \nL 3366 3988 \nQ 3128 4100 2886 4159 \nQ 2644 4219 2406 4219 \nQ 1781 4219 1451 3797 \nQ 1122 3375 1075 2522 \nQ 1259 2794 1537 2939 \nQ 1816 3084 2150 3084 \nQ 2853 3084 3261 2657 \nQ 3669 2231 3669 1497 \nQ 3669 778 3244 343 \nQ 2819 -91 2113 -91 \nQ 1303 -91 875 529 \nQ 447 1150 447 2328 \nQ 447 3434 972 4092 \nQ 1497 4750 2381 4750 \nQ 2619 4750 2861 4703 \nQ 3103 4656 3366 4563 \nz\n\" transform=\"scale(0.015625)\"/>\n       </defs>\n       <use xlink:href=\"#DejaVuSans-36\"/>\n      </g>\n     </g>\n    </g>\n    <g id=\"xtick_4\">\n     <g id=\"line2d_4\">\n      <g>\n       <use xlink:href=\"#m28563e115a\" x=\"318.885568\" y=\"288.430125\" style=\"stroke: #000000; stroke-width: 0.8\"/>\n      </g>\n     </g>\n     <g id=\"text_4\">\n      <!-- 8 -->\n      <g transform=\"translate(315.704318 303.028562) scale(0.1 -0.1)\">\n       <defs>\n        <path id=\"DejaVuSans-38\" d=\"M 2034 2216 \nQ 1584 2216 1326 1975 \nQ 1069 1734 1069 1313 \nQ 1069 891 1326 650 \nQ 1584 409 2034 409 \nQ 2484 409 2743 651 \nQ 3003 894 3003 1313 \nQ 3003 1734 2745 1975 \nQ 2488 2216 2034 2216 \nz\nM 1403 2484 \nQ 997 2584 770 2862 \nQ 544 3141 544 3541 \nQ 544 4100 942 4425 \nQ 1341 4750 2034 4750 \nQ 2731 4750 3128 4425 \nQ 3525 4100 3525 3541 \nQ 3525 3141 3298 2862 \nQ 3072 2584 2669 2484 \nQ 3125 2378 3379 2068 \nQ 3634 1759 3634 1313 \nQ 3634 634 3220 271 \nQ 2806 -91 2034 -91 \nQ 1263 -91 848 271 \nQ 434 634 434 1313 \nQ 434 1759 690 2068 \nQ 947 2378 1403 2484 \nz\nM 1172 3481 \nQ 1172 3119 1398 2916 \nQ 1625 2713 2034 2713 \nQ 2441 2713 2670 2916 \nQ 2900 3119 2900 3481 \nQ 2900 3844 2670 4047 \nQ 2441 4250 2034 4250 \nQ 1625 4250 1398 4047 \nQ 1172 3844 1172 3481 \nz\n\" transform=\"scale(0.015625)\"/>\n       </defs>\n       <use xlink:href=\"#DejaVuSans-38\"/>\n      </g>\n     </g>\n    </g>\n    <g id=\"xtick_5\">\n     <g id=\"line2d_5\">\n      <g>\n       <use xlink:href=\"#m28563e115a\" x=\"391.031023\" y=\"288.430125\" style=\"stroke: #000000; stroke-width: 0.8\"/>\n      </g>\n     </g>\n     <g id=\"text_5\">\n      <!-- 10 -->\n      <g transform=\"translate(384.668523 303.028562) scale(0.1 -0.1)\">\n       <defs>\n        <path id=\"DejaVuSans-31\" d=\"M 794 531 \nL 1825 531 \nL 1825 4091 \nL 703 3866 \nL 703 4441 \nL 1819 4666 \nL 2450 4666 \nL 2450 531 \nL 3481 531 \nL 3481 0 \nL 794 0 \nL 794 531 \nz\n\" transform=\"scale(0.015625)\"/>\n        <path id=\"DejaVuSans-30\" d=\"M 2034 4250 \nQ 1547 4250 1301 3770 \nQ 1056 3291 1056 2328 \nQ 1056 1369 1301 889 \nQ 1547 409 2034 409 \nQ 2525 409 2770 889 \nQ 3016 1369 3016 2328 \nQ 3016 3291 2770 3770 \nQ 2525 4250 2034 4250 \nz\nM 2034 4750 \nQ 2819 4750 3233 4129 \nQ 3647 3509 3647 2328 \nQ 3647 1150 3233 529 \nQ 2819 -91 2034 -91 \nQ 1250 -91 836 529 \nQ 422 1150 422 2328 \nQ 422 3509 836 4129 \nQ 1250 4750 2034 4750 \nz\n\" transform=\"scale(0.015625)\"/>\n       </defs>\n       <use xlink:href=\"#DejaVuSans-31\"/>\n       <use xlink:href=\"#DejaVuSans-30\" x=\"63.623047\"/>\n      </g>\n     </g>\n    </g>\n    <g id=\"text_6\">\n     <!-- Epochs -->\n     <g transform=\"translate(210.788125 316.706687) scale(0.1 -0.1)\">\n      <defs>\n       <path id=\"DejaVuSans-45\" d=\"M 628 4666 \nL 3578 4666 \nL 3578 4134 \nL 1259 4134 \nL 1259 2753 \nL 3481 2753 \nL 3481 2222 \nL 1259 2222 \nL 1259 531 \nL 3634 531 \nL 3634 0 \nL 628 0 \nL 628 4666 \nz\n\" transform=\"scale(0.015625)\"/>\n       <path id=\"DejaVuSans-70\" d=\"M 1159 525 \nL 1159 -1331 \nL 581 -1331 \nL 581 3500 \nL 1159 3500 \nL 1159 2969 \nQ 1341 3281 1617 3432 \nQ 1894 3584 2278 3584 \nQ 2916 3584 3314 3078 \nQ 3713 2572 3713 1747 \nQ 3713 922 3314 415 \nQ 2916 -91 2278 -91 \nQ 1894 -91 1617 61 \nQ 1341 213 1159 525 \nz\nM 3116 1747 \nQ 3116 2381 2855 2742 \nQ 2594 3103 2138 3103 \nQ 1681 3103 1420 2742 \nQ 1159 2381 1159 1747 \nQ 1159 1113 1420 752 \nQ 1681 391 2138 391 \nQ 2594 391 2855 752 \nQ 3116 1113 3116 1747 \nz\n\" transform=\"scale(0.015625)\"/>\n       <path id=\"DejaVuSans-6f\" d=\"M 1959 3097 \nQ 1497 3097 1228 2736 \nQ 959 2375 959 1747 \nQ 959 1119 1226 758 \nQ 1494 397 1959 397 \nQ 2419 397 2687 759 \nQ 2956 1122 2956 1747 \nQ 2956 2369 2687 2733 \nQ 2419 3097 1959 3097 \nz\nM 1959 3584 \nQ 2709 3584 3137 3096 \nQ 3566 2609 3566 1747 \nQ 3566 888 3137 398 \nQ 2709 -91 1959 -91 \nQ 1206 -91 779 398 \nQ 353 888 353 1747 \nQ 353 2609 779 3096 \nQ 1206 3584 1959 3584 \nz\n\" transform=\"scale(0.015625)\"/>\n       <path id=\"DejaVuSans-63\" d=\"M 3122 3366 \nL 3122 2828 \nQ 2878 2963 2633 3030 \nQ 2388 3097 2138 3097 \nQ 1578 3097 1268 2742 \nQ 959 2388 959 1747 \nQ 959 1106 1268 751 \nQ 1578 397 2138 397 \nQ 2388 397 2633 464 \nQ 2878 531 3122 666 \nL 3122 134 \nQ 2881 22 2623 -34 \nQ 2366 -91 2075 -91 \nQ 1284 -91 818 406 \nQ 353 903 353 1747 \nQ 353 2603 823 3093 \nQ 1294 3584 2113 3584 \nQ 2378 3584 2631 3529 \nQ 2884 3475 3122 3366 \nz\n\" transform=\"scale(0.015625)\"/>\n       <path id=\"DejaVuSans-68\" d=\"M 3513 2113 \nL 3513 0 \nL 2938 0 \nL 2938 2094 \nQ 2938 2591 2744 2837 \nQ 2550 3084 2163 3084 \nQ 1697 3084 1428 2787 \nQ 1159 2491 1159 1978 \nL 1159 0 \nL 581 0 \nL 581 4863 \nL 1159 4863 \nL 1159 2956 \nQ 1366 3272 1645 3428 \nQ 1925 3584 2291 3584 \nQ 2894 3584 3203 3211 \nQ 3513 2838 3513 2113 \nz\n\" transform=\"scale(0.015625)\"/>\n       <path id=\"DejaVuSans-73\" d=\"M 2834 3397 \nL 2834 2853 \nQ 2591 2978 2328 3040 \nQ 2066 3103 1784 3103 \nQ 1356 3103 1142 2972 \nQ 928 2841 928 2578 \nQ 928 2378 1081 2264 \nQ 1234 2150 1697 2047 \nL 1894 2003 \nQ 2506 1872 2764 1633 \nQ 3022 1394 3022 966 \nQ 3022 478 2636 193 \nQ 2250 -91 1575 -91 \nQ 1294 -91 989 -36 \nQ 684 19 347 128 \nL 347 722 \nQ 666 556 975 473 \nQ 1284 391 1588 391 \nQ 1994 391 2212 530 \nQ 2431 669 2431 922 \nQ 2431 1156 2273 1281 \nQ 2116 1406 1581 1522 \nL 1381 1569 \nQ 847 1681 609 1914 \nQ 372 2147 372 2553 \nQ 372 3047 722 3315 \nQ 1072 3584 1716 3584 \nQ 2034 3584 2315 3537 \nQ 2597 3491 2834 3397 \nz\n\" transform=\"scale(0.015625)\"/>\n      </defs>\n      <use xlink:href=\"#DejaVuSans-45\"/>\n      <use xlink:href=\"#DejaVuSans-70\" x=\"63.183594\"/>\n      <use xlink:href=\"#DejaVuSans-6f\" x=\"126.660156\"/>\n      <use xlink:href=\"#DejaVuSans-63\" x=\"187.841797\"/>\n      <use xlink:href=\"#DejaVuSans-68\" x=\"242.822266\"/>\n      <use xlink:href=\"#DejaVuSans-73\" x=\"306.201172\"/>\n     </g>\n    </g>\n   </g>\n   <g id=\"matplotlib.axis_2\">\n    <g id=\"ytick_1\">\n     <g id=\"line2d_6\">\n      <defs>\n       <path id=\"m76a4dcef0a\" d=\"M 0 0 \nL -3.5 0 \n\" style=\"stroke: #000000; stroke-width: 0.8\"/>\n      </defs>\n      <g>\n       <use xlink:href=\"#m76a4dcef0a\" x=\"50.14375\" y=\"265.701319\" style=\"stroke: #000000; stroke-width: 0.8\"/>\n      </g>\n     </g>\n     <g id=\"text_7\">\n      <!-- 0.20 -->\n      <g transform=\"translate(20.878125 269.500537) scale(0.1 -0.1)\">\n       <defs>\n        <path id=\"DejaVuSans-2e\" d=\"M 684 794 \nL 1344 794 \nL 1344 0 \nL 684 0 \nL 684 794 \nz\n\" transform=\"scale(0.015625)\"/>\n       </defs>\n       <use xlink:href=\"#DejaVuSans-30\"/>\n       <use xlink:href=\"#DejaVuSans-2e\" x=\"63.623047\"/>\n       <use xlink:href=\"#DejaVuSans-32\" x=\"95.410156\"/>\n       <use xlink:href=\"#DejaVuSans-30\" x=\"159.033203\"/>\n      </g>\n     </g>\n    </g>\n    <g id=\"ytick_2\">\n     <g id=\"line2d_7\">\n      <g>\n       <use xlink:href=\"#m76a4dcef0a\" x=\"50.14375\" y=\"230.625946\" style=\"stroke: #000000; stroke-width: 0.8\"/>\n      </g>\n     </g>\n     <g id=\"text_8\">\n      <!-- 0.25 -->\n      <g transform=\"translate(20.878125 234.425164) scale(0.1 -0.1)\">\n       <defs>\n        <path id=\"DejaVuSans-35\" d=\"M 691 4666 \nL 3169 4666 \nL 3169 4134 \nL 1269 4134 \nL 1269 2991 \nQ 1406 3038 1543 3061 \nQ 1681 3084 1819 3084 \nQ 2600 3084 3056 2656 \nQ 3513 2228 3513 1497 \nQ 3513 744 3044 326 \nQ 2575 -91 1722 -91 \nQ 1428 -91 1123 -41 \nQ 819 9 494 109 \nL 494 744 \nQ 775 591 1075 516 \nQ 1375 441 1709 441 \nQ 2250 441 2565 725 \nQ 2881 1009 2881 1497 \nQ 2881 1984 2565 2268 \nQ 2250 2553 1709 2553 \nQ 1456 2553 1204 2497 \nQ 953 2441 691 2322 \nL 691 4666 \nz\n\" transform=\"scale(0.015625)\"/>\n       </defs>\n       <use xlink:href=\"#DejaVuSans-30\"/>\n       <use xlink:href=\"#DejaVuSans-2e\" x=\"63.623047\"/>\n       <use xlink:href=\"#DejaVuSans-32\" x=\"95.410156\"/>\n       <use xlink:href=\"#DejaVuSans-35\" x=\"159.033203\"/>\n      </g>\n     </g>\n    </g>\n    <g id=\"ytick_3\">\n     <g id=\"line2d_8\">\n      <g>\n       <use xlink:href=\"#m76a4dcef0a\" x=\"50.14375\" y=\"195.550573\" style=\"stroke: #000000; stroke-width: 0.8\"/>\n      </g>\n     </g>\n     <g id=\"text_9\">\n      <!-- 0.30 -->\n      <g transform=\"translate(20.878125 199.349791) scale(0.1 -0.1)\">\n       <defs>\n        <path id=\"DejaVuSans-33\" d=\"M 2597 2516 \nQ 3050 2419 3304 2112 \nQ 3559 1806 3559 1356 \nQ 3559 666 3084 287 \nQ 2609 -91 1734 -91 \nQ 1441 -91 1130 -33 \nQ 819 25 488 141 \nL 488 750 \nQ 750 597 1062 519 \nQ 1375 441 1716 441 \nQ 2309 441 2620 675 \nQ 2931 909 2931 1356 \nQ 2931 1769 2642 2001 \nQ 2353 2234 1838 2234 \nL 1294 2234 \nL 1294 2753 \nL 1863 2753 \nQ 2328 2753 2575 2939 \nQ 2822 3125 2822 3475 \nQ 2822 3834 2567 4026 \nQ 2313 4219 1838 4219 \nQ 1578 4219 1281 4162 \nQ 984 4106 628 3988 \nL 628 4550 \nQ 988 4650 1302 4700 \nQ 1616 4750 1894 4750 \nQ 2613 4750 3031 4423 \nQ 3450 4097 3450 3541 \nQ 3450 3153 3228 2886 \nQ 3006 2619 2597 2516 \nz\n\" transform=\"scale(0.015625)\"/>\n       </defs>\n       <use xlink:href=\"#DejaVuSans-30\"/>\n       <use xlink:href=\"#DejaVuSans-2e\" x=\"63.623047\"/>\n       <use xlink:href=\"#DejaVuSans-33\" x=\"95.410156\"/>\n       <use xlink:href=\"#DejaVuSans-30\" x=\"159.033203\"/>\n      </g>\n     </g>\n    </g>\n    <g id=\"ytick_4\">\n     <g id=\"line2d_9\">\n      <g>\n       <use xlink:href=\"#m76a4dcef0a\" x=\"50.14375\" y=\"160.4752\" style=\"stroke: #000000; stroke-width: 0.8\"/>\n      </g>\n     </g>\n     <g id=\"text_10\">\n      <!-- 0.35 -->\n      <g transform=\"translate(20.878125 164.274418) scale(0.1 -0.1)\">\n       <use xlink:href=\"#DejaVuSans-30\"/>\n       <use xlink:href=\"#DejaVuSans-2e\" x=\"63.623047\"/>\n       <use xlink:href=\"#DejaVuSans-33\" x=\"95.410156\"/>\n       <use xlink:href=\"#DejaVuSans-35\" x=\"159.033203\"/>\n      </g>\n     </g>\n    </g>\n    <g id=\"ytick_5\">\n     <g id=\"line2d_10\">\n      <g>\n       <use xlink:href=\"#m76a4dcef0a\" x=\"50.14375\" y=\"125.399826\" style=\"stroke: #000000; stroke-width: 0.8\"/>\n      </g>\n     </g>\n     <g id=\"text_11\">\n      <!-- 0.40 -->\n      <g transform=\"translate(20.878125 129.199045) scale(0.1 -0.1)\">\n       <use xlink:href=\"#DejaVuSans-30\"/>\n       <use xlink:href=\"#DejaVuSans-2e\" x=\"63.623047\"/>\n       <use xlink:href=\"#DejaVuSans-34\" x=\"95.410156\"/>\n       <use xlink:href=\"#DejaVuSans-30\" x=\"159.033203\"/>\n      </g>\n     </g>\n    </g>\n    <g id=\"ytick_6\">\n     <g id=\"line2d_11\">\n      <g>\n       <use xlink:href=\"#m76a4dcef0a\" x=\"50.14375\" y=\"90.324453\" style=\"stroke: #000000; stroke-width: 0.8\"/>\n      </g>\n     </g>\n     <g id=\"text_12\">\n      <!-- 0.45 -->\n      <g transform=\"translate(20.878125 94.123672) scale(0.1 -0.1)\">\n       <use xlink:href=\"#DejaVuSans-30\"/>\n       <use xlink:href=\"#DejaVuSans-2e\" x=\"63.623047\"/>\n       <use xlink:href=\"#DejaVuSans-34\" x=\"95.410156\"/>\n       <use xlink:href=\"#DejaVuSans-35\" x=\"159.033203\"/>\n      </g>\n     </g>\n    </g>\n    <g id=\"ytick_7\">\n     <g id=\"line2d_12\">\n      <g>\n       <use xlink:href=\"#m76a4dcef0a\" x=\"50.14375\" y=\"55.24908\" style=\"stroke: #000000; stroke-width: 0.8\"/>\n      </g>\n     </g>\n     <g id=\"text_13\">\n      <!-- 0.50 -->\n      <g transform=\"translate(20.878125 59.048299) scale(0.1 -0.1)\">\n       <use xlink:href=\"#DejaVuSans-30\"/>\n       <use xlink:href=\"#DejaVuSans-2e\" x=\"63.623047\"/>\n       <use xlink:href=\"#DejaVuSans-35\" x=\"95.410156\"/>\n       <use xlink:href=\"#DejaVuSans-30\" x=\"159.033203\"/>\n      </g>\n     </g>\n    </g>\n    <g id=\"text_14\">\n     <!-- loss -->\n     <g transform=\"translate(14.798438 165.031937) rotate(-90) scale(0.1 -0.1)\">\n      <defs>\n       <path id=\"DejaVuSans-6c\" d=\"M 603 4863 \nL 1178 4863 \nL 1178 0 \nL 603 0 \nL 603 4863 \nz\n\" transform=\"scale(0.015625)\"/>\n      </defs>\n      <use xlink:href=\"#DejaVuSans-6c\"/>\n      <use xlink:href=\"#DejaVuSans-6f\" x=\"27.783203\"/>\n      <use xlink:href=\"#DejaVuSans-73\" x=\"88.964844\"/>\n      <use xlink:href=\"#DejaVuSans-73\" x=\"141.064453\"/>\n     </g>\n    </g>\n   </g>\n   <g id=\"line2d_13\">\n    <path d=\"M 66.376477 34.414125 \nL 102.449205 145.443468 \nL 138.521932 202.866658 \nL 174.594659 234.172094 \nL 210.667386 245.598557 \nL 246.740114 251.537095 \nL 282.812841 256.590639 \nL 318.885568 253.647732 \nL 354.958295 276.334125 \nL 391.031023 274.804138 \n\" clip-path=\"url(#p9497b2c81c)\" style=\"fill: none; stroke-dasharray: 5.55,2.4; stroke-dashoffset: 0; stroke: #0000ff; stroke-width: 1.5\"/>\n    <defs>\n     <path id=\"mda6d974eb5\" d=\"M 0 3 \nC 0.795609 3 1.55874 2.683901 2.12132 2.12132 \nC 2.683901 1.55874 3 0.795609 3 0 \nC 3 -0.795609 2.683901 -1.55874 2.12132 -2.12132 \nC 1.55874 -2.683901 0.795609 -3 0 -3 \nC -0.795609 -3 -1.55874 -2.683901 -2.12132 -2.12132 \nC -2.683901 -1.55874 -3 -0.795609 -3 0 \nC -3 0.795609 -2.683901 1.55874 -2.12132 2.12132 \nC -1.55874 2.683901 -0.795609 3 0 3 \nz\n\" style=\"stroke: #0000ff\"/>\n    </defs>\n    <g clip-path=\"url(#p9497b2c81c)\">\n     <use xlink:href=\"#mda6d974eb5\" x=\"66.376477\" y=\"34.414125\" style=\"fill: #0000ff; stroke: #0000ff\"/>\n     <use xlink:href=\"#mda6d974eb5\" x=\"102.449205\" y=\"145.443468\" style=\"fill: #0000ff; stroke: #0000ff\"/>\n     <use xlink:href=\"#mda6d974eb5\" x=\"138.521932\" y=\"202.866658\" style=\"fill: #0000ff; stroke: #0000ff\"/>\n     <use xlink:href=\"#mda6d974eb5\" x=\"174.594659\" y=\"234.172094\" style=\"fill: #0000ff; stroke: #0000ff\"/>\n     <use xlink:href=\"#mda6d974eb5\" x=\"210.667386\" y=\"245.598557\" style=\"fill: #0000ff; stroke: #0000ff\"/>\n     <use xlink:href=\"#mda6d974eb5\" x=\"246.740114\" y=\"251.537095\" style=\"fill: #0000ff; stroke: #0000ff\"/>\n     <use xlink:href=\"#mda6d974eb5\" x=\"282.812841\" y=\"256.590639\" style=\"fill: #0000ff; stroke: #0000ff\"/>\n     <use xlink:href=\"#mda6d974eb5\" x=\"318.885568\" y=\"253.647732\" style=\"fill: #0000ff; stroke: #0000ff\"/>\n     <use xlink:href=\"#mda6d974eb5\" x=\"354.958295\" y=\"276.334125\" style=\"fill: #0000ff; stroke: #0000ff\"/>\n     <use xlink:href=\"#mda6d974eb5\" x=\"391.031023\" y=\"274.804138\" style=\"fill: #0000ff; stroke: #0000ff\"/>\n    </g>\n   </g>\n   <g id=\"line2d_14\">\n    <path d=\"M 66.376477 96.232391 \nL 102.449205 194.353667 \nL 138.521932 244.619419 \nL 174.594659 244.894073 \nL 210.667386 232.910967 \nL 246.740114 217.033905 \nL 282.812841 263.178554 \nL 318.885568 256.886775 \nL 354.958295 258.181494 \nL 391.031023 260.743859 \n\" clip-path=\"url(#p9497b2c81c)\" style=\"fill: none; stroke: #ff0000; stroke-width: 1.5; stroke-linecap: square\"/>\n    <defs>\n     <path id=\"m9c160803c4\" d=\"M 0 3 \nC 0.795609 3 1.55874 2.683901 2.12132 2.12132 \nC 2.683901 1.55874 3 0.795609 3 0 \nC 3 -0.795609 2.683901 -1.55874 2.12132 -2.12132 \nC 1.55874 -2.683901 0.795609 -3 0 -3 \nC -0.795609 -3 -1.55874 -2.683901 -2.12132 -2.12132 \nC -2.683901 -1.55874 -3 -0.795609 -3 0 \nC -3 0.795609 -2.683901 1.55874 -2.12132 2.12132 \nC -1.55874 2.683901 -0.795609 3 0 3 \nz\n\" style=\"stroke: #ff0000\"/>\n    </defs>\n    <g clip-path=\"url(#p9497b2c81c)\">\n     <use xlink:href=\"#m9c160803c4\" x=\"66.376477\" y=\"96.232391\" style=\"fill: #ff0000; stroke: #ff0000\"/>\n     <use xlink:href=\"#m9c160803c4\" x=\"102.449205\" y=\"194.353667\" style=\"fill: #ff0000; stroke: #ff0000\"/>\n     <use xlink:href=\"#m9c160803c4\" x=\"138.521932\" y=\"244.619419\" style=\"fill: #ff0000; stroke: #ff0000\"/>\n     <use xlink:href=\"#m9c160803c4\" x=\"174.594659\" y=\"244.894073\" style=\"fill: #ff0000; stroke: #ff0000\"/>\n     <use xlink:href=\"#m9c160803c4\" x=\"210.667386\" y=\"232.910967\" style=\"fill: #ff0000; stroke: #ff0000\"/>\n     <use xlink:href=\"#m9c160803c4\" x=\"246.740114\" y=\"217.033905\" style=\"fill: #ff0000; stroke: #ff0000\"/>\n     <use xlink:href=\"#m9c160803c4\" x=\"282.812841\" y=\"263.178554\" style=\"fill: #ff0000; stroke: #ff0000\"/>\n     <use xlink:href=\"#m9c160803c4\" x=\"318.885568\" y=\"256.886775\" style=\"fill: #ff0000; stroke: #ff0000\"/>\n     <use xlink:href=\"#m9c160803c4\" x=\"354.958295\" y=\"258.181494\" style=\"fill: #ff0000; stroke: #ff0000\"/>\n     <use xlink:href=\"#m9c160803c4\" x=\"391.031023\" y=\"260.743859\" style=\"fill: #ff0000; stroke: #ff0000\"/>\n    </g>\n   </g>\n   <g id=\"patch_3\">\n    <path d=\"M 50.14375 288.430125 \nL 50.14375 22.318125 \n\" style=\"fill: none; stroke: #000000; stroke-width: 0.8; stroke-linejoin: miter; stroke-linecap: square\"/>\n   </g>\n   <g id=\"patch_4\">\n    <path d=\"M 407.26375 288.430125 \nL 407.26375 22.318125 \n\" style=\"fill: none; stroke: #000000; stroke-width: 0.8; stroke-linejoin: miter; stroke-linecap: square\"/>\n   </g>\n   <g id=\"patch_5\">\n    <path d=\"M 50.14375 288.430125 \nL 407.26375 288.430125 \n\" style=\"fill: none; stroke: #000000; stroke-width: 0.8; stroke-linejoin: miter; stroke-linecap: square\"/>\n   </g>\n   <g id=\"patch_6\">\n    <path d=\"M 50.14375 22.318125 \nL 407.26375 22.318125 \n\" style=\"fill: none; stroke: #000000; stroke-width: 0.8; stroke-linejoin: miter; stroke-linecap: square\"/>\n   </g>\n   <g id=\"text_15\">\n    <!-- Training and validation loss -->\n    <g transform=\"translate(146.89375 16.318125) scale(0.12 -0.12)\">\n     <defs>\n      <path id=\"DejaVuSans-54\" d=\"M -19 4666 \nL 3928 4666 \nL 3928 4134 \nL 2272 4134 \nL 2272 0 \nL 1638 0 \nL 1638 4134 \nL -19 4134 \nL -19 4666 \nz\n\" transform=\"scale(0.015625)\"/>\n      <path id=\"DejaVuSans-72\" d=\"M 2631 2963 \nQ 2534 3019 2420 3045 \nQ 2306 3072 2169 3072 \nQ 1681 3072 1420 2755 \nQ 1159 2438 1159 1844 \nL 1159 0 \nL 581 0 \nL 581 3500 \nL 1159 3500 \nL 1159 2956 \nQ 1341 3275 1631 3429 \nQ 1922 3584 2338 3584 \nQ 2397 3584 2469 3576 \nQ 2541 3569 2628 3553 \nL 2631 2963 \nz\n\" transform=\"scale(0.015625)\"/>\n      <path id=\"DejaVuSans-61\" d=\"M 2194 1759 \nQ 1497 1759 1228 1600 \nQ 959 1441 959 1056 \nQ 959 750 1161 570 \nQ 1363 391 1709 391 \nQ 2188 391 2477 730 \nQ 2766 1069 2766 1631 \nL 2766 1759 \nL 2194 1759 \nz\nM 3341 1997 \nL 3341 0 \nL 2766 0 \nL 2766 531 \nQ 2569 213 2275 61 \nQ 1981 -91 1556 -91 \nQ 1019 -91 701 211 \nQ 384 513 384 1019 \nQ 384 1609 779 1909 \nQ 1175 2209 1959 2209 \nL 2766 2209 \nL 2766 2266 \nQ 2766 2663 2505 2880 \nQ 2244 3097 1772 3097 \nQ 1472 3097 1187 3025 \nQ 903 2953 641 2809 \nL 641 3341 \nQ 956 3463 1253 3523 \nQ 1550 3584 1831 3584 \nQ 2591 3584 2966 3190 \nQ 3341 2797 3341 1997 \nz\n\" transform=\"scale(0.015625)\"/>\n      <path id=\"DejaVuSans-69\" d=\"M 603 3500 \nL 1178 3500 \nL 1178 0 \nL 603 0 \nL 603 3500 \nz\nM 603 4863 \nL 1178 4863 \nL 1178 4134 \nL 603 4134 \nL 603 4863 \nz\n\" transform=\"scale(0.015625)\"/>\n      <path id=\"DejaVuSans-6e\" d=\"M 3513 2113 \nL 3513 0 \nL 2938 0 \nL 2938 2094 \nQ 2938 2591 2744 2837 \nQ 2550 3084 2163 3084 \nQ 1697 3084 1428 2787 \nQ 1159 2491 1159 1978 \nL 1159 0 \nL 581 0 \nL 581 3500 \nL 1159 3500 \nL 1159 2956 \nQ 1366 3272 1645 3428 \nQ 1925 3584 2291 3584 \nQ 2894 3584 3203 3211 \nQ 3513 2838 3513 2113 \nz\n\" transform=\"scale(0.015625)\"/>\n      <path id=\"DejaVuSans-67\" d=\"M 2906 1791 \nQ 2906 2416 2648 2759 \nQ 2391 3103 1925 3103 \nQ 1463 3103 1205 2759 \nQ 947 2416 947 1791 \nQ 947 1169 1205 825 \nQ 1463 481 1925 481 \nQ 2391 481 2648 825 \nQ 2906 1169 2906 1791 \nz\nM 3481 434 \nQ 3481 -459 3084 -895 \nQ 2688 -1331 1869 -1331 \nQ 1566 -1331 1297 -1286 \nQ 1028 -1241 775 -1147 \nL 775 -588 \nQ 1028 -725 1275 -790 \nQ 1522 -856 1778 -856 \nQ 2344 -856 2625 -561 \nQ 2906 -266 2906 331 \nL 2906 616 \nQ 2728 306 2450 153 \nQ 2172 0 1784 0 \nQ 1141 0 747 490 \nQ 353 981 353 1791 \nQ 353 2603 747 3093 \nQ 1141 3584 1784 3584 \nQ 2172 3584 2450 3431 \nQ 2728 3278 2906 2969 \nL 2906 3500 \nL 3481 3500 \nL 3481 434 \nz\n\" transform=\"scale(0.015625)\"/>\n      <path id=\"DejaVuSans-20\" transform=\"scale(0.015625)\"/>\n      <path id=\"DejaVuSans-64\" d=\"M 2906 2969 \nL 2906 4863 \nL 3481 4863 \nL 3481 0 \nL 2906 0 \nL 2906 525 \nQ 2725 213 2448 61 \nQ 2172 -91 1784 -91 \nQ 1150 -91 751 415 \nQ 353 922 353 1747 \nQ 353 2572 751 3078 \nQ 1150 3584 1784 3584 \nQ 2172 3584 2448 3432 \nQ 2725 3281 2906 2969 \nz\nM 947 1747 \nQ 947 1113 1208 752 \nQ 1469 391 1925 391 \nQ 2381 391 2643 752 \nQ 2906 1113 2906 1747 \nQ 2906 2381 2643 2742 \nQ 2381 3103 1925 3103 \nQ 1469 3103 1208 2742 \nQ 947 2381 947 1747 \nz\n\" transform=\"scale(0.015625)\"/>\n      <path id=\"DejaVuSans-76\" d=\"M 191 3500 \nL 800 3500 \nL 1894 563 \nL 2988 3500 \nL 3597 3500 \nL 2284 0 \nL 1503 0 \nL 191 3500 \nz\n\" transform=\"scale(0.015625)\"/>\n      <path id=\"DejaVuSans-74\" d=\"M 1172 4494 \nL 1172 3500 \nL 2356 3500 \nL 2356 3053 \nL 1172 3053 \nL 1172 1153 \nQ 1172 725 1289 603 \nQ 1406 481 1766 481 \nL 2356 481 \nL 2356 0 \nL 1766 0 \nQ 1100 0 847 248 \nQ 594 497 594 1153 \nL 594 3053 \nL 172 3053 \nL 172 3500 \nL 594 3500 \nL 594 4494 \nL 1172 4494 \nz\n\" transform=\"scale(0.015625)\"/>\n     </defs>\n     <use xlink:href=\"#DejaVuSans-54\"/>\n     <use xlink:href=\"#DejaVuSans-72\" x=\"46.333984\"/>\n     <use xlink:href=\"#DejaVuSans-61\" x=\"87.447266\"/>\n     <use xlink:href=\"#DejaVuSans-69\" x=\"148.726562\"/>\n     <use xlink:href=\"#DejaVuSans-6e\" x=\"176.509766\"/>\n     <use xlink:href=\"#DejaVuSans-69\" x=\"239.888672\"/>\n     <use xlink:href=\"#DejaVuSans-6e\" x=\"267.671875\"/>\n     <use xlink:href=\"#DejaVuSans-67\" x=\"331.050781\"/>\n     <use xlink:href=\"#DejaVuSans-20\" x=\"394.527344\"/>\n     <use xlink:href=\"#DejaVuSans-61\" x=\"426.314453\"/>\n     <use xlink:href=\"#DejaVuSans-6e\" x=\"487.59375\"/>\n     <use xlink:href=\"#DejaVuSans-64\" x=\"550.972656\"/>\n     <use xlink:href=\"#DejaVuSans-20\" x=\"614.449219\"/>\n     <use xlink:href=\"#DejaVuSans-76\" x=\"646.236328\"/>\n     <use xlink:href=\"#DejaVuSans-61\" x=\"705.416016\"/>\n     <use xlink:href=\"#DejaVuSans-6c\" x=\"766.695312\"/>\n     <use xlink:href=\"#DejaVuSans-69\" x=\"794.478516\"/>\n     <use xlink:href=\"#DejaVuSans-64\" x=\"822.261719\"/>\n     <use xlink:href=\"#DejaVuSans-61\" x=\"885.738281\"/>\n     <use xlink:href=\"#DejaVuSans-74\" x=\"947.017578\"/>\n     <use xlink:href=\"#DejaVuSans-69\" x=\"986.226562\"/>\n     <use xlink:href=\"#DejaVuSans-6f\" x=\"1014.009766\"/>\n     <use xlink:href=\"#DejaVuSans-6e\" x=\"1075.191406\"/>\n     <use xlink:href=\"#DejaVuSans-20\" x=\"1138.570312\"/>\n     <use xlink:href=\"#DejaVuSans-6c\" x=\"1170.357422\"/>\n     <use xlink:href=\"#DejaVuSans-6f\" x=\"1198.140625\"/>\n     <use xlink:href=\"#DejaVuSans-73\" x=\"1259.322266\"/>\n     <use xlink:href=\"#DejaVuSans-73\" x=\"1311.421875\"/>\n    </g>\n   </g>\n   <g id=\"legend_1\">\n    <g id=\"patch_7\">\n     <path d=\"M 320.673125 60.230625 \nL 400.26375 60.230625 \nQ 402.26375 60.230625 402.26375 58.230625 \nL 402.26375 29.318125 \nQ 402.26375 27.318125 400.26375 27.318125 \nL 320.673125 27.318125 \nQ 318.673125 27.318125 318.673125 29.318125 \nL 318.673125 58.230625 \nQ 318.673125 60.230625 320.673125 60.230625 \nz\n\" style=\"fill: #ffffff; opacity: 0.8; stroke: #cccccc; stroke-linejoin: miter\"/>\n    </g>\n    <g id=\"line2d_15\">\n     <path d=\"M 322.673125 35.416562 \nL 332.673125 35.416562 \nL 342.673125 35.416562 \n\" style=\"fill: none; stroke-dasharray: 5.55,2.4; stroke-dashoffset: 0; stroke: #0000ff; stroke-width: 1.5\"/>\n     <g>\n      <use xlink:href=\"#mda6d974eb5\" x=\"332.673125\" y=\"35.416562\" style=\"fill: #0000ff; stroke: #0000ff\"/>\n     </g>\n    </g>\n    <g id=\"text_16\">\n     <!-- train_loss -->\n     <g transform=\"translate(350.673125 38.916562) scale(0.1 -0.1)\">\n      <defs>\n       <path id=\"DejaVuSans-5f\" d=\"M 3263 -1063 \nL 3263 -1509 \nL -63 -1509 \nL -63 -1063 \nL 3263 -1063 \nz\n\" transform=\"scale(0.015625)\"/>\n      </defs>\n      <use xlink:href=\"#DejaVuSans-74\"/>\n      <use xlink:href=\"#DejaVuSans-72\" x=\"39.208984\"/>\n      <use xlink:href=\"#DejaVuSans-61\" x=\"80.322266\"/>\n      <use xlink:href=\"#DejaVuSans-69\" x=\"141.601562\"/>\n      <use xlink:href=\"#DejaVuSans-6e\" x=\"169.384766\"/>\n      <use xlink:href=\"#DejaVuSans-5f\" x=\"232.763672\"/>\n      <use xlink:href=\"#DejaVuSans-6c\" x=\"282.763672\"/>\n      <use xlink:href=\"#DejaVuSans-6f\" x=\"310.546875\"/>\n      <use xlink:href=\"#DejaVuSans-73\" x=\"371.728516\"/>\n      <use xlink:href=\"#DejaVuSans-73\" x=\"423.828125\"/>\n     </g>\n    </g>\n    <g id=\"line2d_16\">\n     <path d=\"M 322.673125 50.372813 \nL 332.673125 50.372813 \nL 342.673125 50.372813 \n\" style=\"fill: none; stroke: #ff0000; stroke-width: 1.5; stroke-linecap: square\"/>\n     <g>\n      <use xlink:href=\"#m9c160803c4\" x=\"332.673125\" y=\"50.372813\" style=\"fill: #ff0000; stroke: #ff0000\"/>\n     </g>\n    </g>\n    <g id=\"text_17\">\n     <!-- val_loss -->\n     <g transform=\"translate(350.673125 53.872813) scale(0.1 -0.1)\">\n      <use xlink:href=\"#DejaVuSans-76\"/>\n      <use xlink:href=\"#DejaVuSans-61\" x=\"59.179688\"/>\n      <use xlink:href=\"#DejaVuSans-6c\" x=\"120.458984\"/>\n      <use xlink:href=\"#DejaVuSans-5f\" x=\"148.242188\"/>\n      <use xlink:href=\"#DejaVuSans-6c\" x=\"198.242188\"/>\n      <use xlink:href=\"#DejaVuSans-6f\" x=\"226.025391\"/>\n      <use xlink:href=\"#DejaVuSans-73\" x=\"287.207031\"/>\n      <use xlink:href=\"#DejaVuSans-73\" x=\"339.306641\"/>\n     </g>\n    </g>\n   </g>\n  </g>\n </g>\n <defs>\n  <clipPath id=\"p9497b2c81c\">\n   <rect x=\"50.14375\" y=\"22.318125\" width=\"357.12\" height=\"266.112\"/>\n  </clipPath>\n </defs>\n</svg>\n",
      "text/plain": [
       "<Figure size 640x480 with 1 Axes>"
      ]
     },
     "metadata": {},
     "output_type": "display_data"
    }
   ],
   "source": [
    "plot_metric(dfhistory,\"loss\")"
   ]
  },
  {
   "cell_type": "code",
   "execution_count": 24,
   "id": "d790db14",
   "metadata": {},
   "outputs": [
    {
     "data": {
      "image/svg+xml": "<?xml version=\"1.0\" encoding=\"utf-8\" standalone=\"no\"?>\n<!DOCTYPE svg PUBLIC \"-//W3C//DTD SVG 1.1//EN\"\n  \"http://www.w3.org/Graphics/SVG/1.1/DTD/svg11.dtd\">\n<svg xmlns:xlink=\"http://www.w3.org/1999/xlink\" width=\"420.82625pt\" height=\"325.986375pt\" viewBox=\"0 0 420.82625 325.986375\" xmlns=\"http://www.w3.org/2000/svg\" version=\"1.1\">\n <metadata>\n  <rdf:RDF xmlns:dc=\"http://purl.org/dc/elements/1.1/\" xmlns:cc=\"http://creativecommons.org/ns#\" xmlns:rdf=\"http://www.w3.org/1999/02/22-rdf-syntax-ns#\">\n   <cc:Work>\n    <dc:type rdf:resource=\"http://purl.org/dc/dcmitype/StillImage\"/>\n    <dc:date>2023-08-02T11:53:46.464195</dc:date>\n    <dc:format>image/svg+xml</dc:format>\n    <dc:creator>\n     <cc:Agent>\n      <dc:title>Matplotlib v3.6.2, https://matplotlib.org/</dc:title>\n     </cc:Agent>\n    </dc:creator>\n   </cc:Work>\n  </rdf:RDF>\n </metadata>\n <defs>\n  <style type=\"text/css\">*{stroke-linejoin: round; stroke-linecap: butt}</style>\n </defs>\n <g id=\"figure_1\">\n  <g id=\"patch_1\">\n   <path d=\"M 0 325.986375 \nL 420.82625 325.986375 \nL 420.82625 0 \nL 0 0 \nz\n\" style=\"fill: #ffffff\"/>\n  </g>\n  <g id=\"axes_1\">\n   <g id=\"patch_2\">\n    <path d=\"M 56.50625 288.430125 \nL 413.62625 288.430125 \nL 413.62625 22.318125 \nL 56.50625 22.318125 \nz\n\" style=\"fill: #ffffff\"/>\n   </g>\n   <g id=\"matplotlib.axis_1\">\n    <g id=\"xtick_1\">\n     <g id=\"line2d_1\">\n      <defs>\n       <path id=\"m1265234f3a\" d=\"M 0 0 \nL 0 3.5 \n\" style=\"stroke: #000000; stroke-width: 0.8\"/>\n      </defs>\n      <g>\n       <use xlink:href=\"#m1265234f3a\" x=\"108.811705\" y=\"288.430125\" style=\"stroke: #000000; stroke-width: 0.8\"/>\n      </g>\n     </g>\n     <g id=\"text_1\">\n      <!-- 2 -->\n      <g transform=\"translate(105.630455 303.028562) scale(0.1 -0.1)\">\n       <defs>\n        <path id=\"DejaVuSans-32\" d=\"M 1228 531 \nL 3431 531 \nL 3431 0 \nL 469 0 \nL 469 531 \nQ 828 903 1448 1529 \nQ 2069 2156 2228 2338 \nQ 2531 2678 2651 2914 \nQ 2772 3150 2772 3378 \nQ 2772 3750 2511 3984 \nQ 2250 4219 1831 4219 \nQ 1534 4219 1204 4116 \nQ 875 4013 500 3803 \nL 500 4441 \nQ 881 4594 1212 4672 \nQ 1544 4750 1819 4750 \nQ 2544 4750 2975 4387 \nQ 3406 4025 3406 3419 \nQ 3406 3131 3298 2873 \nQ 3191 2616 2906 2266 \nQ 2828 2175 2409 1742 \nQ 1991 1309 1228 531 \nz\n\" transform=\"scale(0.015625)\"/>\n       </defs>\n       <use xlink:href=\"#DejaVuSans-32\"/>\n      </g>\n     </g>\n    </g>\n    <g id=\"xtick_2\">\n     <g id=\"line2d_2\">\n      <g>\n       <use xlink:href=\"#m1265234f3a\" x=\"180.957159\" y=\"288.430125\" style=\"stroke: #000000; stroke-width: 0.8\"/>\n      </g>\n     </g>\n     <g id=\"text_2\">\n      <!-- 4 -->\n      <g transform=\"translate(177.775909 303.028562) scale(0.1 -0.1)\">\n       <defs>\n        <path id=\"DejaVuSans-34\" d=\"M 2419 4116 \nL 825 1625 \nL 2419 1625 \nL 2419 4116 \nz\nM 2253 4666 \nL 3047 4666 \nL 3047 1625 \nL 3713 1625 \nL 3713 1100 \nL 3047 1100 \nL 3047 0 \nL 2419 0 \nL 2419 1100 \nL 313 1100 \nL 313 1709 \nL 2253 4666 \nz\n\" transform=\"scale(0.015625)\"/>\n       </defs>\n       <use xlink:href=\"#DejaVuSans-34\"/>\n      </g>\n     </g>\n    </g>\n    <g id=\"xtick_3\">\n     <g id=\"line2d_3\">\n      <g>\n       <use xlink:href=\"#m1265234f3a\" x=\"253.102614\" y=\"288.430125\" style=\"stroke: #000000; stroke-width: 0.8\"/>\n      </g>\n     </g>\n     <g id=\"text_3\">\n      <!-- 6 -->\n      <g transform=\"translate(249.921364 303.028562) scale(0.1 -0.1)\">\n       <defs>\n        <path id=\"DejaVuSans-36\" d=\"M 2113 2584 \nQ 1688 2584 1439 2293 \nQ 1191 2003 1191 1497 \nQ 1191 994 1439 701 \nQ 1688 409 2113 409 \nQ 2538 409 2786 701 \nQ 3034 994 3034 1497 \nQ 3034 2003 2786 2293 \nQ 2538 2584 2113 2584 \nz\nM 3366 4563 \nL 3366 3988 \nQ 3128 4100 2886 4159 \nQ 2644 4219 2406 4219 \nQ 1781 4219 1451 3797 \nQ 1122 3375 1075 2522 \nQ 1259 2794 1537 2939 \nQ 1816 3084 2150 3084 \nQ 2853 3084 3261 2657 \nQ 3669 2231 3669 1497 \nQ 3669 778 3244 343 \nQ 2819 -91 2113 -91 \nQ 1303 -91 875 529 \nQ 447 1150 447 2328 \nQ 447 3434 972 4092 \nQ 1497 4750 2381 4750 \nQ 2619 4750 2861 4703 \nQ 3103 4656 3366 4563 \nz\n\" transform=\"scale(0.015625)\"/>\n       </defs>\n       <use xlink:href=\"#DejaVuSans-36\"/>\n      </g>\n     </g>\n    </g>\n    <g id=\"xtick_4\">\n     <g id=\"line2d_4\">\n      <g>\n       <use xlink:href=\"#m1265234f3a\" x=\"325.248068\" y=\"288.430125\" style=\"stroke: #000000; stroke-width: 0.8\"/>\n      </g>\n     </g>\n     <g id=\"text_4\">\n      <!-- 8 -->\n      <g transform=\"translate(322.066818 303.028562) scale(0.1 -0.1)\">\n       <defs>\n        <path id=\"DejaVuSans-38\" d=\"M 2034 2216 \nQ 1584 2216 1326 1975 \nQ 1069 1734 1069 1313 \nQ 1069 891 1326 650 \nQ 1584 409 2034 409 \nQ 2484 409 2743 651 \nQ 3003 894 3003 1313 \nQ 3003 1734 2745 1975 \nQ 2488 2216 2034 2216 \nz\nM 1403 2484 \nQ 997 2584 770 2862 \nQ 544 3141 544 3541 \nQ 544 4100 942 4425 \nQ 1341 4750 2034 4750 \nQ 2731 4750 3128 4425 \nQ 3525 4100 3525 3541 \nQ 3525 3141 3298 2862 \nQ 3072 2584 2669 2484 \nQ 3125 2378 3379 2068 \nQ 3634 1759 3634 1313 \nQ 3634 634 3220 271 \nQ 2806 -91 2034 -91 \nQ 1263 -91 848 271 \nQ 434 634 434 1313 \nQ 434 1759 690 2068 \nQ 947 2378 1403 2484 \nz\nM 1172 3481 \nQ 1172 3119 1398 2916 \nQ 1625 2713 2034 2713 \nQ 2441 2713 2670 2916 \nQ 2900 3119 2900 3481 \nQ 2900 3844 2670 4047 \nQ 2441 4250 2034 4250 \nQ 1625 4250 1398 4047 \nQ 1172 3844 1172 3481 \nz\n\" transform=\"scale(0.015625)\"/>\n       </defs>\n       <use xlink:href=\"#DejaVuSans-38\"/>\n      </g>\n     </g>\n    </g>\n    <g id=\"xtick_5\">\n     <g id=\"line2d_5\">\n      <g>\n       <use xlink:href=\"#m1265234f3a\" x=\"397.393523\" y=\"288.430125\" style=\"stroke: #000000; stroke-width: 0.8\"/>\n      </g>\n     </g>\n     <g id=\"text_5\">\n      <!-- 10 -->\n      <g transform=\"translate(391.031023 303.028562) scale(0.1 -0.1)\">\n       <defs>\n        <path id=\"DejaVuSans-31\" d=\"M 794 531 \nL 1825 531 \nL 1825 4091 \nL 703 3866 \nL 703 4441 \nL 1819 4666 \nL 2450 4666 \nL 2450 531 \nL 3481 531 \nL 3481 0 \nL 794 0 \nL 794 531 \nz\n\" transform=\"scale(0.015625)\"/>\n        <path id=\"DejaVuSans-30\" d=\"M 2034 4250 \nQ 1547 4250 1301 3770 \nQ 1056 3291 1056 2328 \nQ 1056 1369 1301 889 \nQ 1547 409 2034 409 \nQ 2525 409 2770 889 \nQ 3016 1369 3016 2328 \nQ 3016 3291 2770 3770 \nQ 2525 4250 2034 4250 \nz\nM 2034 4750 \nQ 2819 4750 3233 4129 \nQ 3647 3509 3647 2328 \nQ 3647 1150 3233 529 \nQ 2819 -91 2034 -91 \nQ 1250 -91 836 529 \nQ 422 1150 422 2328 \nQ 422 3509 836 4129 \nQ 1250 4750 2034 4750 \nz\n\" transform=\"scale(0.015625)\"/>\n       </defs>\n       <use xlink:href=\"#DejaVuSans-31\"/>\n       <use xlink:href=\"#DejaVuSans-30\" x=\"63.623047\"/>\n      </g>\n     </g>\n    </g>\n    <g id=\"text_6\">\n     <!-- Epochs -->\n     <g transform=\"translate(217.150625 316.706687) scale(0.1 -0.1)\">\n      <defs>\n       <path id=\"DejaVuSans-45\" d=\"M 628 4666 \nL 3578 4666 \nL 3578 4134 \nL 1259 4134 \nL 1259 2753 \nL 3481 2753 \nL 3481 2222 \nL 1259 2222 \nL 1259 531 \nL 3634 531 \nL 3634 0 \nL 628 0 \nL 628 4666 \nz\n\" transform=\"scale(0.015625)\"/>\n       <path id=\"DejaVuSans-70\" d=\"M 1159 525 \nL 1159 -1331 \nL 581 -1331 \nL 581 3500 \nL 1159 3500 \nL 1159 2969 \nQ 1341 3281 1617 3432 \nQ 1894 3584 2278 3584 \nQ 2916 3584 3314 3078 \nQ 3713 2572 3713 1747 \nQ 3713 922 3314 415 \nQ 2916 -91 2278 -91 \nQ 1894 -91 1617 61 \nQ 1341 213 1159 525 \nz\nM 3116 1747 \nQ 3116 2381 2855 2742 \nQ 2594 3103 2138 3103 \nQ 1681 3103 1420 2742 \nQ 1159 2381 1159 1747 \nQ 1159 1113 1420 752 \nQ 1681 391 2138 391 \nQ 2594 391 2855 752 \nQ 3116 1113 3116 1747 \nz\n\" transform=\"scale(0.015625)\"/>\n       <path id=\"DejaVuSans-6f\" d=\"M 1959 3097 \nQ 1497 3097 1228 2736 \nQ 959 2375 959 1747 \nQ 959 1119 1226 758 \nQ 1494 397 1959 397 \nQ 2419 397 2687 759 \nQ 2956 1122 2956 1747 \nQ 2956 2369 2687 2733 \nQ 2419 3097 1959 3097 \nz\nM 1959 3584 \nQ 2709 3584 3137 3096 \nQ 3566 2609 3566 1747 \nQ 3566 888 3137 398 \nQ 2709 -91 1959 -91 \nQ 1206 -91 779 398 \nQ 353 888 353 1747 \nQ 353 2609 779 3096 \nQ 1206 3584 1959 3584 \nz\n\" transform=\"scale(0.015625)\"/>\n       <path id=\"DejaVuSans-63\" d=\"M 3122 3366 \nL 3122 2828 \nQ 2878 2963 2633 3030 \nQ 2388 3097 2138 3097 \nQ 1578 3097 1268 2742 \nQ 959 2388 959 1747 \nQ 959 1106 1268 751 \nQ 1578 397 2138 397 \nQ 2388 397 2633 464 \nQ 2878 531 3122 666 \nL 3122 134 \nQ 2881 22 2623 -34 \nQ 2366 -91 2075 -91 \nQ 1284 -91 818 406 \nQ 353 903 353 1747 \nQ 353 2603 823 3093 \nQ 1294 3584 2113 3584 \nQ 2378 3584 2631 3529 \nQ 2884 3475 3122 3366 \nz\n\" transform=\"scale(0.015625)\"/>\n       <path id=\"DejaVuSans-68\" d=\"M 3513 2113 \nL 3513 0 \nL 2938 0 \nL 2938 2094 \nQ 2938 2591 2744 2837 \nQ 2550 3084 2163 3084 \nQ 1697 3084 1428 2787 \nQ 1159 2491 1159 1978 \nL 1159 0 \nL 581 0 \nL 581 4863 \nL 1159 4863 \nL 1159 2956 \nQ 1366 3272 1645 3428 \nQ 1925 3584 2291 3584 \nQ 2894 3584 3203 3211 \nQ 3513 2838 3513 2113 \nz\n\" transform=\"scale(0.015625)\"/>\n       <path id=\"DejaVuSans-73\" d=\"M 2834 3397 \nL 2834 2853 \nQ 2591 2978 2328 3040 \nQ 2066 3103 1784 3103 \nQ 1356 3103 1142 2972 \nQ 928 2841 928 2578 \nQ 928 2378 1081 2264 \nQ 1234 2150 1697 2047 \nL 1894 2003 \nQ 2506 1872 2764 1633 \nQ 3022 1394 3022 966 \nQ 3022 478 2636 193 \nQ 2250 -91 1575 -91 \nQ 1294 -91 989 -36 \nQ 684 19 347 128 \nL 347 722 \nQ 666 556 975 473 \nQ 1284 391 1588 391 \nQ 1994 391 2212 530 \nQ 2431 669 2431 922 \nQ 2431 1156 2273 1281 \nQ 2116 1406 1581 1522 \nL 1381 1569 \nQ 847 1681 609 1914 \nQ 372 2147 372 2553 \nQ 372 3047 722 3315 \nQ 1072 3584 1716 3584 \nQ 2034 3584 2315 3537 \nQ 2597 3491 2834 3397 \nz\n\" transform=\"scale(0.015625)\"/>\n      </defs>\n      <use xlink:href=\"#DejaVuSans-45\"/>\n      <use xlink:href=\"#DejaVuSans-70\" x=\"63.183594\"/>\n      <use xlink:href=\"#DejaVuSans-6f\" x=\"126.660156\"/>\n      <use xlink:href=\"#DejaVuSans-63\" x=\"187.841797\"/>\n      <use xlink:href=\"#DejaVuSans-68\" x=\"242.822266\"/>\n      <use xlink:href=\"#DejaVuSans-73\" x=\"306.201172\"/>\n     </g>\n    </g>\n   </g>\n   <g id=\"matplotlib.axis_2\">\n    <g id=\"ytick_1\">\n     <g id=\"line2d_6\">\n      <defs>\n       <path id=\"m782918e4c8\" d=\"M 0 0 \nL -3.5 0 \n\" style=\"stroke: #000000; stroke-width: 0.8\"/>\n      </defs>\n      <g>\n       <use xlink:href=\"#m782918e4c8\" x=\"56.50625\" y=\"262.808228\" style=\"stroke: #000000; stroke-width: 0.8\"/>\n      </g>\n     </g>\n     <g id=\"text_7\">\n      <!-- 0.750 -->\n      <g transform=\"translate(20.878125 266.607447) scale(0.1 -0.1)\">\n       <defs>\n        <path id=\"DejaVuSans-2e\" d=\"M 684 794 \nL 1344 794 \nL 1344 0 \nL 684 0 \nL 684 794 \nz\n\" transform=\"scale(0.015625)\"/>\n        <path id=\"DejaVuSans-37\" d=\"M 525 4666 \nL 3525 4666 \nL 3525 4397 \nL 1831 0 \nL 1172 0 \nL 2766 4134 \nL 525 4134 \nL 525 4666 \nz\n\" transform=\"scale(0.015625)\"/>\n        <path id=\"DejaVuSans-35\" d=\"M 691 4666 \nL 3169 4666 \nL 3169 4134 \nL 1269 4134 \nL 1269 2991 \nQ 1406 3038 1543 3061 \nQ 1681 3084 1819 3084 \nQ 2600 3084 3056 2656 \nQ 3513 2228 3513 1497 \nQ 3513 744 3044 326 \nQ 2575 -91 1722 -91 \nQ 1428 -91 1123 -41 \nQ 819 9 494 109 \nL 494 744 \nQ 775 591 1075 516 \nQ 1375 441 1709 441 \nQ 2250 441 2565 725 \nQ 2881 1009 2881 1497 \nQ 2881 1984 2565 2268 \nQ 2250 2553 1709 2553 \nQ 1456 2553 1204 2497 \nQ 953 2441 691 2322 \nL 691 4666 \nz\n\" transform=\"scale(0.015625)\"/>\n       </defs>\n       <use xlink:href=\"#DejaVuSans-30\"/>\n       <use xlink:href=\"#DejaVuSans-2e\" x=\"63.623047\"/>\n       <use xlink:href=\"#DejaVuSans-37\" x=\"95.410156\"/>\n       <use xlink:href=\"#DejaVuSans-35\" x=\"159.033203\"/>\n       <use xlink:href=\"#DejaVuSans-30\" x=\"222.65625\"/>\n      </g>\n     </g>\n    </g>\n    <g id=\"ytick_2\">\n     <g id=\"line2d_7\">\n      <g>\n       <use xlink:href=\"#m782918e4c8\" x=\"56.50625\" y=\"230.603753\" style=\"stroke: #000000; stroke-width: 0.8\"/>\n      </g>\n     </g>\n     <g id=\"text_8\">\n      <!-- 0.775 -->\n      <g transform=\"translate(20.878125 234.402972) scale(0.1 -0.1)\">\n       <use xlink:href=\"#DejaVuSans-30\"/>\n       <use xlink:href=\"#DejaVuSans-2e\" x=\"63.623047\"/>\n       <use xlink:href=\"#DejaVuSans-37\" x=\"95.410156\"/>\n       <use xlink:href=\"#DejaVuSans-37\" x=\"159.033203\"/>\n       <use xlink:href=\"#DejaVuSans-35\" x=\"222.65625\"/>\n      </g>\n     </g>\n    </g>\n    <g id=\"ytick_3\">\n     <g id=\"line2d_8\">\n      <g>\n       <use xlink:href=\"#m782918e4c8\" x=\"56.50625\" y=\"198.399279\" style=\"stroke: #000000; stroke-width: 0.8\"/>\n      </g>\n     </g>\n     <g id=\"text_9\">\n      <!-- 0.800 -->\n      <g transform=\"translate(20.878125 202.198498) scale(0.1 -0.1)\">\n       <use xlink:href=\"#DejaVuSans-30\"/>\n       <use xlink:href=\"#DejaVuSans-2e\" x=\"63.623047\"/>\n       <use xlink:href=\"#DejaVuSans-38\" x=\"95.410156\"/>\n       <use xlink:href=\"#DejaVuSans-30\" x=\"159.033203\"/>\n       <use xlink:href=\"#DejaVuSans-30\" x=\"222.65625\"/>\n      </g>\n     </g>\n    </g>\n    <g id=\"ytick_4\">\n     <g id=\"line2d_9\">\n      <g>\n       <use xlink:href=\"#m782918e4c8\" x=\"56.50625\" y=\"166.194804\" style=\"stroke: #000000; stroke-width: 0.8\"/>\n      </g>\n     </g>\n     <g id=\"text_10\">\n      <!-- 0.825 -->\n      <g transform=\"translate(20.878125 169.994023) scale(0.1 -0.1)\">\n       <use xlink:href=\"#DejaVuSans-30\"/>\n       <use xlink:href=\"#DejaVuSans-2e\" x=\"63.623047\"/>\n       <use xlink:href=\"#DejaVuSans-38\" x=\"95.410156\"/>\n       <use xlink:href=\"#DejaVuSans-32\" x=\"159.033203\"/>\n       <use xlink:href=\"#DejaVuSans-35\" x=\"222.65625\"/>\n      </g>\n     </g>\n    </g>\n    <g id=\"ytick_5\">\n     <g id=\"line2d_10\">\n      <g>\n       <use xlink:href=\"#m782918e4c8\" x=\"56.50625\" y=\"133.99033\" style=\"stroke: #000000; stroke-width: 0.8\"/>\n      </g>\n     </g>\n     <g id=\"text_11\">\n      <!-- 0.850 -->\n      <g transform=\"translate(20.878125 137.789549) scale(0.1 -0.1)\">\n       <use xlink:href=\"#DejaVuSans-30\"/>\n       <use xlink:href=\"#DejaVuSans-2e\" x=\"63.623047\"/>\n       <use xlink:href=\"#DejaVuSans-38\" x=\"95.410156\"/>\n       <use xlink:href=\"#DejaVuSans-35\" x=\"159.033203\"/>\n       <use xlink:href=\"#DejaVuSans-30\" x=\"222.65625\"/>\n      </g>\n     </g>\n    </g>\n    <g id=\"ytick_6\">\n     <g id=\"line2d_11\">\n      <g>\n       <use xlink:href=\"#m782918e4c8\" x=\"56.50625\" y=\"101.785855\" style=\"stroke: #000000; stroke-width: 0.8\"/>\n      </g>\n     </g>\n     <g id=\"text_12\">\n      <!-- 0.875 -->\n      <g transform=\"translate(20.878125 105.585074) scale(0.1 -0.1)\">\n       <use xlink:href=\"#DejaVuSans-30\"/>\n       <use xlink:href=\"#DejaVuSans-2e\" x=\"63.623047\"/>\n       <use xlink:href=\"#DejaVuSans-38\" x=\"95.410156\"/>\n       <use xlink:href=\"#DejaVuSans-37\" x=\"159.033203\"/>\n       <use xlink:href=\"#DejaVuSans-35\" x=\"222.65625\"/>\n      </g>\n     </g>\n    </g>\n    <g id=\"ytick_7\">\n     <g id=\"line2d_12\">\n      <g>\n       <use xlink:href=\"#m782918e4c8\" x=\"56.50625\" y=\"69.581381\" style=\"stroke: #000000; stroke-width: 0.8\"/>\n      </g>\n     </g>\n     <g id=\"text_13\">\n      <!-- 0.900 -->\n      <g transform=\"translate(20.878125 73.380599) scale(0.1 -0.1)\">\n       <defs>\n        <path id=\"DejaVuSans-39\" d=\"M 703 97 \nL 703 672 \nQ 941 559 1184 500 \nQ 1428 441 1663 441 \nQ 2288 441 2617 861 \nQ 2947 1281 2994 2138 \nQ 2813 1869 2534 1725 \nQ 2256 1581 1919 1581 \nQ 1219 1581 811 2004 \nQ 403 2428 403 3163 \nQ 403 3881 828 4315 \nQ 1253 4750 1959 4750 \nQ 2769 4750 3195 4129 \nQ 3622 3509 3622 2328 \nQ 3622 1225 3098 567 \nQ 2575 -91 1691 -91 \nQ 1453 -91 1209 -44 \nQ 966 3 703 97 \nz\nM 1959 2075 \nQ 2384 2075 2632 2365 \nQ 2881 2656 2881 3163 \nQ 2881 3666 2632 3958 \nQ 2384 4250 1959 4250 \nQ 1534 4250 1286 3958 \nQ 1038 3666 1038 3163 \nQ 1038 2656 1286 2365 \nQ 1534 2075 1959 2075 \nz\n\" transform=\"scale(0.015625)\"/>\n       </defs>\n       <use xlink:href=\"#DejaVuSans-30\"/>\n       <use xlink:href=\"#DejaVuSans-2e\" x=\"63.623047\"/>\n       <use xlink:href=\"#DejaVuSans-39\" x=\"95.410156\"/>\n       <use xlink:href=\"#DejaVuSans-30\" x=\"159.033203\"/>\n       <use xlink:href=\"#DejaVuSans-30\" x=\"222.65625\"/>\n      </g>\n     </g>\n    </g>\n    <g id=\"ytick_8\">\n     <g id=\"line2d_13\">\n      <g>\n       <use xlink:href=\"#m782918e4c8\" x=\"56.50625\" y=\"37.376906\" style=\"stroke: #000000; stroke-width: 0.8\"/>\n      </g>\n     </g>\n     <g id=\"text_14\">\n      <!-- 0.925 -->\n      <g transform=\"translate(20.878125 41.176125) scale(0.1 -0.1)\">\n       <use xlink:href=\"#DejaVuSans-30\"/>\n       <use xlink:href=\"#DejaVuSans-2e\" x=\"63.623047\"/>\n       <use xlink:href=\"#DejaVuSans-39\" x=\"95.410156\"/>\n       <use xlink:href=\"#DejaVuSans-32\" x=\"159.033203\"/>\n       <use xlink:href=\"#DejaVuSans-35\" x=\"222.65625\"/>\n      </g>\n     </g>\n    </g>\n    <g id=\"text_15\">\n     <!-- acc -->\n     <g transform=\"translate(14.798438 163.936625) rotate(-90) scale(0.1 -0.1)\">\n      <defs>\n       <path id=\"DejaVuSans-61\" d=\"M 2194 1759 \nQ 1497 1759 1228 1600 \nQ 959 1441 959 1056 \nQ 959 750 1161 570 \nQ 1363 391 1709 391 \nQ 2188 391 2477 730 \nQ 2766 1069 2766 1631 \nL 2766 1759 \nL 2194 1759 \nz\nM 3341 1997 \nL 3341 0 \nL 2766 0 \nL 2766 531 \nQ 2569 213 2275 61 \nQ 1981 -91 1556 -91 \nQ 1019 -91 701 211 \nQ 384 513 384 1019 \nQ 384 1609 779 1909 \nQ 1175 2209 1959 2209 \nL 2766 2209 \nL 2766 2266 \nQ 2766 2663 2505 2880 \nQ 2244 3097 1772 3097 \nQ 1472 3097 1187 3025 \nQ 903 2953 641 2809 \nL 641 3341 \nQ 956 3463 1253 3523 \nQ 1550 3584 1831 3584 \nQ 2591 3584 2966 3190 \nQ 3341 2797 3341 1997 \nz\n\" transform=\"scale(0.015625)\"/>\n      </defs>\n      <use xlink:href=\"#DejaVuSans-61\"/>\n      <use xlink:href=\"#DejaVuSans-63\" x=\"61.279297\"/>\n      <use xlink:href=\"#DejaVuSans-63\" x=\"116.259766\"/>\n     </g>\n    </g>\n   </g>\n   <g id=\"line2d_14\">\n    <path d=\"M 72.738977 276.334125 \nL 108.811705 149.834919 \nL 144.884432 93.283845 \nL 180.957159 69.323733 \nL 217.029886 59.404798 \nL 253.102614 57.472516 \nL 289.175341 50.516347 \nL 325.248068 55.797836 \nL 361.320795 34.414125 \nL 397.393523 35.959889 \n\" clip-path=\"url(#p96179e8b9d)\" style=\"fill: none; stroke-dasharray: 5.55,2.4; stroke-dashoffset: 0; stroke: #0000ff; stroke-width: 1.5\"/>\n    <defs>\n     <path id=\"m5f7fa0bc52\" d=\"M 0 3 \nC 0.795609 3 1.55874 2.683901 2.12132 2.12132 \nC 2.683901 1.55874 3 0.795609 3 0 \nC 3 -0.795609 2.683901 -1.55874 2.12132 -2.12132 \nC 1.55874 -2.683901 0.795609 -3 0 -3 \nC -0.795609 -3 -1.55874 -2.683901 -2.12132 -2.12132 \nC -2.683901 -1.55874 -3 -0.795609 -3 0 \nC -3 0.795609 -2.683901 1.55874 -2.12132 2.12132 \nC -1.55874 2.683901 -0.795609 3 0 3 \nz\n\" style=\"stroke: #0000ff\"/>\n    </defs>\n    <g clip-path=\"url(#p96179e8b9d)\">\n     <use xlink:href=\"#m5f7fa0bc52\" x=\"72.738977\" y=\"276.334125\" style=\"fill: #0000ff; stroke: #0000ff\"/>\n     <use xlink:href=\"#m5f7fa0bc52\" x=\"108.811705\" y=\"149.834919\" style=\"fill: #0000ff; stroke: #0000ff\"/>\n     <use xlink:href=\"#m5f7fa0bc52\" x=\"144.884432\" y=\"93.283845\" style=\"fill: #0000ff; stroke: #0000ff\"/>\n     <use xlink:href=\"#m5f7fa0bc52\" x=\"180.957159\" y=\"69.323733\" style=\"fill: #0000ff; stroke: #0000ff\"/>\n     <use xlink:href=\"#m5f7fa0bc52\" x=\"217.029886\" y=\"59.404798\" style=\"fill: #0000ff; stroke: #0000ff\"/>\n     <use xlink:href=\"#m5f7fa0bc52\" x=\"253.102614\" y=\"57.472516\" style=\"fill: #0000ff; stroke: #0000ff\"/>\n     <use xlink:href=\"#m5f7fa0bc52\" x=\"289.175341\" y=\"50.516347\" style=\"fill: #0000ff; stroke: #0000ff\"/>\n     <use xlink:href=\"#m5f7fa0bc52\" x=\"325.248068\" y=\"55.797836\" style=\"fill: #0000ff; stroke: #0000ff\"/>\n     <use xlink:href=\"#m5f7fa0bc52\" x=\"361.320795\" y=\"34.414125\" style=\"fill: #0000ff; stroke: #0000ff\"/>\n     <use xlink:href=\"#m5f7fa0bc52\" x=\"397.393523\" y=\"35.959889\" style=\"fill: #0000ff; stroke: #0000ff\"/>\n    </g>\n   </g>\n   <g id=\"line2d_15\">\n    <path d=\"M 72.738977 227.38334 \nL 108.811705 97.277248 \nL 144.884432 63.784565 \nL 180.957159 56.699557 \nL 217.029886 72.157736 \nL 253.102614 85.039514 \nL 289.175341 48.970506 \nL 325.248068 46.394181 \nL 361.320795 48.970506 \nL 397.393523 36.732848 \n\" clip-path=\"url(#p96179e8b9d)\" style=\"fill: none; stroke: #ff0000; stroke-width: 1.5; stroke-linecap: square\"/>\n    <defs>\n     <path id=\"mfc0111c58f\" d=\"M 0 3 \nC 0.795609 3 1.55874 2.683901 2.12132 2.12132 \nC 2.683901 1.55874 3 0.795609 3 0 \nC 3 -0.795609 2.683901 -1.55874 2.12132 -2.12132 \nC 1.55874 -2.683901 0.795609 -3 0 -3 \nC -0.795609 -3 -1.55874 -2.683901 -2.12132 -2.12132 \nC -2.683901 -1.55874 -3 -0.795609 -3 0 \nC -3 0.795609 -2.683901 1.55874 -2.12132 2.12132 \nC -1.55874 2.683901 -0.795609 3 0 3 \nz\n\" style=\"stroke: #ff0000\"/>\n    </defs>\n    <g clip-path=\"url(#p96179e8b9d)\">\n     <use xlink:href=\"#mfc0111c58f\" x=\"72.738977\" y=\"227.38334\" style=\"fill: #ff0000; stroke: #ff0000\"/>\n     <use xlink:href=\"#mfc0111c58f\" x=\"108.811705\" y=\"97.277248\" style=\"fill: #ff0000; stroke: #ff0000\"/>\n     <use xlink:href=\"#mfc0111c58f\" x=\"144.884432\" y=\"63.784565\" style=\"fill: #ff0000; stroke: #ff0000\"/>\n     <use xlink:href=\"#mfc0111c58f\" x=\"180.957159\" y=\"56.699557\" style=\"fill: #ff0000; stroke: #ff0000\"/>\n     <use xlink:href=\"#mfc0111c58f\" x=\"217.029886\" y=\"72.157736\" style=\"fill: #ff0000; stroke: #ff0000\"/>\n     <use xlink:href=\"#mfc0111c58f\" x=\"253.102614\" y=\"85.039514\" style=\"fill: #ff0000; stroke: #ff0000\"/>\n     <use xlink:href=\"#mfc0111c58f\" x=\"289.175341\" y=\"48.970506\" style=\"fill: #ff0000; stroke: #ff0000\"/>\n     <use xlink:href=\"#mfc0111c58f\" x=\"325.248068\" y=\"46.394181\" style=\"fill: #ff0000; stroke: #ff0000\"/>\n     <use xlink:href=\"#mfc0111c58f\" x=\"361.320795\" y=\"48.970506\" style=\"fill: #ff0000; stroke: #ff0000\"/>\n     <use xlink:href=\"#mfc0111c58f\" x=\"397.393523\" y=\"36.732848\" style=\"fill: #ff0000; stroke: #ff0000\"/>\n    </g>\n   </g>\n   <g id=\"patch_3\">\n    <path d=\"M 56.50625 288.430125 \nL 56.50625 22.318125 \n\" style=\"fill: none; stroke: #000000; stroke-width: 0.8; stroke-linejoin: miter; stroke-linecap: square\"/>\n   </g>\n   <g id=\"patch_4\">\n    <path d=\"M 413.62625 288.430125 \nL 413.62625 22.318125 \n\" style=\"fill: none; stroke: #000000; stroke-width: 0.8; stroke-linejoin: miter; stroke-linecap: square\"/>\n   </g>\n   <g id=\"patch_5\">\n    <path d=\"M 56.50625 288.430125 \nL 413.62625 288.430125 \n\" style=\"fill: none; stroke: #000000; stroke-width: 0.8; stroke-linejoin: miter; stroke-linecap: square\"/>\n   </g>\n   <g id=\"patch_6\">\n    <path d=\"M 56.50625 22.318125 \nL 413.62625 22.318125 \n\" style=\"fill: none; stroke: #000000; stroke-width: 0.8; stroke-linejoin: miter; stroke-linecap: square\"/>\n   </g>\n   <g id=\"text_16\">\n    <!-- Training and validation acc -->\n    <g transform=\"translate(154.570625 16.318125) scale(0.12 -0.12)\">\n     <defs>\n      <path id=\"DejaVuSans-54\" d=\"M -19 4666 \nL 3928 4666 \nL 3928 4134 \nL 2272 4134 \nL 2272 0 \nL 1638 0 \nL 1638 4134 \nL -19 4134 \nL -19 4666 \nz\n\" transform=\"scale(0.015625)\"/>\n      <path id=\"DejaVuSans-72\" d=\"M 2631 2963 \nQ 2534 3019 2420 3045 \nQ 2306 3072 2169 3072 \nQ 1681 3072 1420 2755 \nQ 1159 2438 1159 1844 \nL 1159 0 \nL 581 0 \nL 581 3500 \nL 1159 3500 \nL 1159 2956 \nQ 1341 3275 1631 3429 \nQ 1922 3584 2338 3584 \nQ 2397 3584 2469 3576 \nQ 2541 3569 2628 3553 \nL 2631 2963 \nz\n\" transform=\"scale(0.015625)\"/>\n      <path id=\"DejaVuSans-69\" d=\"M 603 3500 \nL 1178 3500 \nL 1178 0 \nL 603 0 \nL 603 3500 \nz\nM 603 4863 \nL 1178 4863 \nL 1178 4134 \nL 603 4134 \nL 603 4863 \nz\n\" transform=\"scale(0.015625)\"/>\n      <path id=\"DejaVuSans-6e\" d=\"M 3513 2113 \nL 3513 0 \nL 2938 0 \nL 2938 2094 \nQ 2938 2591 2744 2837 \nQ 2550 3084 2163 3084 \nQ 1697 3084 1428 2787 \nQ 1159 2491 1159 1978 \nL 1159 0 \nL 581 0 \nL 581 3500 \nL 1159 3500 \nL 1159 2956 \nQ 1366 3272 1645 3428 \nQ 1925 3584 2291 3584 \nQ 2894 3584 3203 3211 \nQ 3513 2838 3513 2113 \nz\n\" transform=\"scale(0.015625)\"/>\n      <path id=\"DejaVuSans-67\" d=\"M 2906 1791 \nQ 2906 2416 2648 2759 \nQ 2391 3103 1925 3103 \nQ 1463 3103 1205 2759 \nQ 947 2416 947 1791 \nQ 947 1169 1205 825 \nQ 1463 481 1925 481 \nQ 2391 481 2648 825 \nQ 2906 1169 2906 1791 \nz\nM 3481 434 \nQ 3481 -459 3084 -895 \nQ 2688 -1331 1869 -1331 \nQ 1566 -1331 1297 -1286 \nQ 1028 -1241 775 -1147 \nL 775 -588 \nQ 1028 -725 1275 -790 \nQ 1522 -856 1778 -856 \nQ 2344 -856 2625 -561 \nQ 2906 -266 2906 331 \nL 2906 616 \nQ 2728 306 2450 153 \nQ 2172 0 1784 0 \nQ 1141 0 747 490 \nQ 353 981 353 1791 \nQ 353 2603 747 3093 \nQ 1141 3584 1784 3584 \nQ 2172 3584 2450 3431 \nQ 2728 3278 2906 2969 \nL 2906 3500 \nL 3481 3500 \nL 3481 434 \nz\n\" transform=\"scale(0.015625)\"/>\n      <path id=\"DejaVuSans-20\" transform=\"scale(0.015625)\"/>\n      <path id=\"DejaVuSans-64\" d=\"M 2906 2969 \nL 2906 4863 \nL 3481 4863 \nL 3481 0 \nL 2906 0 \nL 2906 525 \nQ 2725 213 2448 61 \nQ 2172 -91 1784 -91 \nQ 1150 -91 751 415 \nQ 353 922 353 1747 \nQ 353 2572 751 3078 \nQ 1150 3584 1784 3584 \nQ 2172 3584 2448 3432 \nQ 2725 3281 2906 2969 \nz\nM 947 1747 \nQ 947 1113 1208 752 \nQ 1469 391 1925 391 \nQ 2381 391 2643 752 \nQ 2906 1113 2906 1747 \nQ 2906 2381 2643 2742 \nQ 2381 3103 1925 3103 \nQ 1469 3103 1208 2742 \nQ 947 2381 947 1747 \nz\n\" transform=\"scale(0.015625)\"/>\n      <path id=\"DejaVuSans-76\" d=\"M 191 3500 \nL 800 3500 \nL 1894 563 \nL 2988 3500 \nL 3597 3500 \nL 2284 0 \nL 1503 0 \nL 191 3500 \nz\n\" transform=\"scale(0.015625)\"/>\n      <path id=\"DejaVuSans-6c\" d=\"M 603 4863 \nL 1178 4863 \nL 1178 0 \nL 603 0 \nL 603 4863 \nz\n\" transform=\"scale(0.015625)\"/>\n      <path id=\"DejaVuSans-74\" d=\"M 1172 4494 \nL 1172 3500 \nL 2356 3500 \nL 2356 3053 \nL 1172 3053 \nL 1172 1153 \nQ 1172 725 1289 603 \nQ 1406 481 1766 481 \nL 2356 481 \nL 2356 0 \nL 1766 0 \nQ 1100 0 847 248 \nQ 594 497 594 1153 \nL 594 3053 \nL 172 3053 \nL 172 3500 \nL 594 3500 \nL 594 4494 \nL 1172 4494 \nz\n\" transform=\"scale(0.015625)\"/>\n     </defs>\n     <use xlink:href=\"#DejaVuSans-54\"/>\n     <use xlink:href=\"#DejaVuSans-72\" x=\"46.333984\"/>\n     <use xlink:href=\"#DejaVuSans-61\" x=\"87.447266\"/>\n     <use xlink:href=\"#DejaVuSans-69\" x=\"148.726562\"/>\n     <use xlink:href=\"#DejaVuSans-6e\" x=\"176.509766\"/>\n     <use xlink:href=\"#DejaVuSans-69\" x=\"239.888672\"/>\n     <use xlink:href=\"#DejaVuSans-6e\" x=\"267.671875\"/>\n     <use xlink:href=\"#DejaVuSans-67\" x=\"331.050781\"/>\n     <use xlink:href=\"#DejaVuSans-20\" x=\"394.527344\"/>\n     <use xlink:href=\"#DejaVuSans-61\" x=\"426.314453\"/>\n     <use xlink:href=\"#DejaVuSans-6e\" x=\"487.59375\"/>\n     <use xlink:href=\"#DejaVuSans-64\" x=\"550.972656\"/>\n     <use xlink:href=\"#DejaVuSans-20\" x=\"614.449219\"/>\n     <use xlink:href=\"#DejaVuSans-76\" x=\"646.236328\"/>\n     <use xlink:href=\"#DejaVuSans-61\" x=\"705.416016\"/>\n     <use xlink:href=\"#DejaVuSans-6c\" x=\"766.695312\"/>\n     <use xlink:href=\"#DejaVuSans-69\" x=\"794.478516\"/>\n     <use xlink:href=\"#DejaVuSans-64\" x=\"822.261719\"/>\n     <use xlink:href=\"#DejaVuSans-61\" x=\"885.738281\"/>\n     <use xlink:href=\"#DejaVuSans-74\" x=\"947.017578\"/>\n     <use xlink:href=\"#DejaVuSans-69\" x=\"986.226562\"/>\n     <use xlink:href=\"#DejaVuSans-6f\" x=\"1014.009766\"/>\n     <use xlink:href=\"#DejaVuSans-6e\" x=\"1075.191406\"/>\n     <use xlink:href=\"#DejaVuSans-20\" x=\"1138.570312\"/>\n     <use xlink:href=\"#DejaVuSans-61\" x=\"1170.357422\"/>\n     <use xlink:href=\"#DejaVuSans-63\" x=\"1231.636719\"/>\n     <use xlink:href=\"#DejaVuSans-63\" x=\"1286.617188\"/>\n    </g>\n   </g>\n   <g id=\"legend_1\">\n    <g id=\"patch_7\">\n     <path d=\"M 63.50625 60.230625 \nL 140.90625 60.230625 \nQ 142.90625 60.230625 142.90625 58.230625 \nL 142.90625 29.318125 \nQ 142.90625 27.318125 140.90625 27.318125 \nL 63.50625 27.318125 \nQ 61.50625 27.318125 61.50625 29.318125 \nL 61.50625 58.230625 \nQ 61.50625 60.230625 63.50625 60.230625 \nz\n\" style=\"fill: #ffffff; opacity: 0.8; stroke: #cccccc; stroke-linejoin: miter\"/>\n    </g>\n    <g id=\"line2d_16\">\n     <path d=\"M 65.50625 35.416562 \nL 75.50625 35.416562 \nL 85.50625 35.416562 \n\" style=\"fill: none; stroke-dasharray: 5.55,2.4; stroke-dashoffset: 0; stroke: #0000ff; stroke-width: 1.5\"/>\n     <g>\n      <use xlink:href=\"#m5f7fa0bc52\" x=\"75.50625\" y=\"35.416562\" style=\"fill: #0000ff; stroke: #0000ff\"/>\n     </g>\n    </g>\n    <g id=\"text_17\">\n     <!-- train_acc -->\n     <g transform=\"translate(93.50625 38.916562) scale(0.1 -0.1)\">\n      <defs>\n       <path id=\"DejaVuSans-5f\" d=\"M 3263 -1063 \nL 3263 -1509 \nL -63 -1509 \nL -63 -1063 \nL 3263 -1063 \nz\n\" transform=\"scale(0.015625)\"/>\n      </defs>\n      <use xlink:href=\"#DejaVuSans-74\"/>\n      <use xlink:href=\"#DejaVuSans-72\" x=\"39.208984\"/>\n      <use xlink:href=\"#DejaVuSans-61\" x=\"80.322266\"/>\n      <use xlink:href=\"#DejaVuSans-69\" x=\"141.601562\"/>\n      <use xlink:href=\"#DejaVuSans-6e\" x=\"169.384766\"/>\n      <use xlink:href=\"#DejaVuSans-5f\" x=\"232.763672\"/>\n      <use xlink:href=\"#DejaVuSans-61\" x=\"282.763672\"/>\n      <use xlink:href=\"#DejaVuSans-63\" x=\"344.042969\"/>\n      <use xlink:href=\"#DejaVuSans-63\" x=\"399.023438\"/>\n     </g>\n    </g>\n    <g id=\"line2d_17\">\n     <path d=\"M 65.50625 50.372813 \nL 75.50625 50.372813 \nL 85.50625 50.372813 \n\" style=\"fill: none; stroke: #ff0000; stroke-width: 1.5; stroke-linecap: square\"/>\n     <g>\n      <use xlink:href=\"#mfc0111c58f\" x=\"75.50625\" y=\"50.372813\" style=\"fill: #ff0000; stroke: #ff0000\"/>\n     </g>\n    </g>\n    <g id=\"text_18\">\n     <!-- val_acc -->\n     <g transform=\"translate(93.50625 53.872813) scale(0.1 -0.1)\">\n      <use xlink:href=\"#DejaVuSans-76\"/>\n      <use xlink:href=\"#DejaVuSans-61\" x=\"59.179688\"/>\n      <use xlink:href=\"#DejaVuSans-6c\" x=\"120.458984\"/>\n      <use xlink:href=\"#DejaVuSans-5f\" x=\"148.242188\"/>\n      <use xlink:href=\"#DejaVuSans-61\" x=\"198.242188\"/>\n      <use xlink:href=\"#DejaVuSans-63\" x=\"259.521484\"/>\n      <use xlink:href=\"#DejaVuSans-63\" x=\"314.501953\"/>\n     </g>\n    </g>\n   </g>\n  </g>\n </g>\n <defs>\n  <clipPath id=\"p96179e8b9d\">\n   <rect x=\"56.50625\" y=\"22.318125\" width=\"357.12\" height=\"266.112\"/>\n  </clipPath>\n </defs>\n</svg>\n",
      "text/plain": [
       "<Figure size 640x480 with 1 Axes>"
      ]
     },
     "metadata": {},
     "output_type": "display_data"
    }
   ],
   "source": [
    "plot_metric(dfhistory,\"acc\")"
   ]
  },
  {
   "cell_type": "code",
   "execution_count": null,
   "id": "3fc91c91",
   "metadata": {},
   "outputs": [],
   "source": []
  },
  {
   "cell_type": "markdown",
   "id": "997c21b1",
   "metadata": {},
   "source": [
    "### 五，使用模型"
   ]
  },
  {
   "cell_type": "code",
   "execution_count": 25,
   "id": "49191373",
   "metadata": {},
   "outputs": [],
   "source": [
    "def predict(net,dl):\n",
    "    net.eval()\n",
    "    with torch.no_grad():\n",
    "        result = nn.Sigmoid()(torch.cat([net.forward(t[0]) for t in dl]))\n",
    "    return(result.data)"
   ]
  },
  {
   "cell_type": "code",
   "execution_count": 26,
   "id": "a2df2bf7",
   "metadata": {},
   "outputs": [
    {
     "data": {
      "text/plain": [
       "tensor([[0.2046],\n",
       "        [0.0154],\n",
       "        [0.0424],\n",
       "        ...,\n",
       "        [0.9893],\n",
       "        [0.9854],\n",
       "        [0.4706]])"
      ]
     },
     "execution_count": 26,
     "metadata": {},
     "output_type": "execute_result"
    }
   ],
   "source": [
    "#预测概率\n",
    "y_pred_probs = predict(net,dl_val)\n",
    "y_pred_probs"
   ]
  },
  {
   "cell_type": "code",
   "execution_count": 27,
   "id": "60b72dac",
   "metadata": {},
   "outputs": [
    {
     "data": {
      "text/plain": [
       "tensor([[0.],\n",
       "        [0.],\n",
       "        [0.],\n",
       "        ...,\n",
       "        [1.],\n",
       "        [1.],\n",
       "        [0.]])"
      ]
     },
     "execution_count": 27,
     "metadata": {},
     "output_type": "execute_result"
    }
   ],
   "source": [
    "#预测类别\n",
    "y_pred = torch.where(y_pred_probs>0.5,\n",
    "        torch.ones_like(y_pred_probs),torch.zeros_like(y_pred_probs))\n",
    "y_pred"
   ]
  },
  {
   "cell_type": "code",
   "execution_count": null,
   "id": "1bf7abad",
   "metadata": {},
   "outputs": [],
   "source": []
  },
  {
   "cell_type": "markdown",
   "id": "0d6f7881",
   "metadata": {},
   "source": [
    "### 六，保存模型"
   ]
  },
  {
   "cell_type": "markdown",
   "id": "63c666ad",
   "metadata": {},
   "source": [
    "推荐使用保存参数方式保存Pytorch模型。"
   ]
  },
  {
   "cell_type": "code",
   "execution_count": 28,
   "id": "878b235b",
   "metadata": {},
   "outputs": [
    {
     "name": "stdout",
     "output_type": "stream",
     "text": [
      "odict_keys(['conv1.weight', 'conv1.bias', 'conv2.weight', 'conv2.bias', 'linear1.weight', 'linear1.bias', 'linear2.weight', 'linear2.bias'])\n"
     ]
    }
   ],
   "source": [
    "print(net.state_dict().keys())"
   ]
  },
  {
   "cell_type": "code",
   "execution_count": 29,
   "id": "d128841f",
   "metadata": {},
   "outputs": [
    {
     "data": {
      "text/plain": [
       "tensor([[0.2046],\n",
       "        [0.0154],\n",
       "        [0.0424],\n",
       "        ...,\n",
       "        [0.9893],\n",
       "        [0.9854],\n",
       "        [0.4706]])"
      ]
     },
     "execution_count": 29,
     "metadata": {},
     "output_type": "execute_result"
    }
   ],
   "source": [
    "# 保存模型参数\n",
    "\n",
    "torch.save(net.state_dict(), \"./data/net_parameter.pt\")\n",
    "\n",
    "net_clone = Net()\n",
    "net_clone.load_state_dict(torch.load(\"./data/net_parameter.pt\"))\n",
    "\n",
    "predict(net_clone,dl_val)"
   ]
  },
  {
   "cell_type": "code",
   "execution_count": null,
   "id": "acc508b3",
   "metadata": {},
   "outputs": [],
   "source": []
  },
  {
   "cell_type": "markdown",
   "id": "c6f1b8ee",
   "metadata": {},
   "source": [
    "**如果本书对你有所帮助，想鼓励一下作者，记得给本项目加一颗星星star⭐️，并分享给你的朋友们喔😊!** \n",
    "\n",
    "如果对本书内容理解上有需要进一步和作者交流的地方，欢迎在公众号\"算法美食屋\"下留言。作者时间和精力有限，会酌情予以回复。\n",
    "\n",
    "也可以在公众号后台回复关键字：**加群**，加入读者交流群和大家讨论。\n",
    "\n",
    "![算法美食屋logo.png](https://tva1.sinaimg.cn/large/e6c9d24egy1h41m2zugguj20k00b9q46.jpg)\n"
   ]
  }
 ],
 "metadata": {
  "jupytext": {
   "cell_metadata_filter": "-all"
  },
  "kernelspec": {
   "display_name": "Python 3 (ipykernel)",
   "language": "python",
   "name": "python3"
  },
  "language_info": {
   "codemirror_mode": {
    "name": "ipython",
    "version": 3
   },
   "file_extension": ".py",
   "mimetype": "text/x-python",
   "name": "python",
   "nbconvert_exporter": "python",
   "pygments_lexer": "ipython3",
   "version": "3.9.0"
  }
 },
 "nbformat": 4,
 "nbformat_minor": 5
}
